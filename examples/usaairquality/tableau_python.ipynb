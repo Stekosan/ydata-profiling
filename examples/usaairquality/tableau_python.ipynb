{
 "cells": [
  {
   "cell_type": "markdown",
   "metadata": {},
   "source": [
    "| Icon | Package | Purpose | Documentation |\n",
    "| ---- | ------- | ------- | ------------- |\n",
    "| <img src=\"https://cdn.jsdelivr.net/gh/devicons/devicon/icons/python/python-original.svg\" width=\"32\" height=\"32\"/> | Python | General-purpose programming | [Python Docs](https://docs.python.org/) |\n",
    "| <img src=\"https://cdn.jsdelivr.net/gh/devicons/devicon/icons/pandas/pandas-original-wordmark.svg\" width=\"32\" height=\"32\"/> | Pandas | Data Manipulation | [Pandas Docs](https://pandas.pydata.org/docs/) |\n",
    "| <img src=\"https://cdn.jsdelivr.net/gh/devicons/devicon@latest/icons/scikitlearn/scikitlearn-original.svg\" width=\"32\" height=\"32\"/> | Scikit-Learn | Machine Learning | [Scikit-Learn Docs](https://scikit-learn.org/stable/documentation.html) |\n",
    "| <img src=\"https://cdn.jsdelivr.net/gh/devicons/devicon/icons/tensorflow/tensorflow-original.svg\" width=\"32\" height=\"32\"/> | TensorFlow | Deep Learning | [TensorFlow Docs](https://www.tensorflow.org/api_docs) |\n",
    "| <img src=\"https://cdn.jsdelivr.net/gh/devicons/devicon/icons/matplotlib/matplotlib-original.svg\" width=\"32\" height=\"32\"/> | Matplotlib | Data Visualization | [Matplotlib Docs](https://matplotlib.org/stable/contents.html) |\n",
    "| <img src=\"https://seaborn.pydata.org/_images/logo-tall-lightbg.svg\" width=\"32\" height=\"32\"/> | Seaborn | Advanced Visualization | [Seaborn Docs](https://seaborn.pydata.org/) |\n",
    "| <img src=\"https://cdn.jsdelivr.net/gh/devicons/devicon/icons/flask/flask-original.svg\" width=\"32\" height=\"32\"/> | Flask | Web Development | [Flask Docs](https://flask.palletsprojects.com/) |\n",
    "| <img src=\"https://cdn.jsdelivr.net/gh/devicons/devicon@latest/icons/django/django-plain.svg\" width=\"32\" height=\"32\"/> | Django | Full Stack Web Development | [Django Docs](https://docs.djangoproject.com/) |\n",
    "| <img src=\"https://cdn.jsdelivr.net/gh/devicons/devicon/icons/numpy/numpy-original.svg\" width=\"32\" height=\"32\"/> | NumPy | Numerical Computation | [NumPy Docs](https://numpy.org/doc/) |\n",
    "| <img src=\"https://cdn.jsdelivr.net/gh/devicons/devicon/icons/keras/keras-original.svg\" width=\"32\" height=\"32\"/> | Keras | Neural Networks | [Keras Docs](https://keras.io/api/) |\n",
    "| <img src=\"https://cdn.jsdelivr.net/gh/devicons/devicon@latest/icons/plotly/plotly-original.svg\" width=\"32\" height=\"32\"/> | Plotly | Interactive Visualization | [Plotly Docs](https://plotly.com/python/) |\n",
    "| <img src=\"https://cdn.jsdelivr.net/gh/devicons/devicon@latest/icons/fastapi/fastapi-original.svg\" width=\"32\" height=\"32\"/> | FastAPI | Fast Web APIs | [FastAPI Docs](https://fastapi.tiangolo.com/) |\n",
    "| <img src=\"https://www.crummy.com/software/BeautifulSoup/10.1.jpg\" width=\"32\" height=\"32\"/> | BeautifulSoup | Web Scraping | [BeautifulSoup Docs](https://www.crummy.com/software/BeautifulSoup/bs4/doc/) |\n",
    "| <img src=\"https://cdn.jsdelivr.net/gh/devicons/devicon/icons/opencv/opencv-original.svg\" width=\"32\" height=\"32\"/> | OpenCV | Computer Vision | [OpenCV Docs](https://docs.opencv.org/) |\n",
    "| <img src=\"https://python-pillow.org/assets/images/pillow-logo-248x250.png\" width=\"32\" height=\"32\"/> | Pillow | Image Processing | [Pillow Docs](https://pillow.readthedocs.io/) |\n",
    "| <img src=\"https://feast.dev/wp-content/uploads/2021/01/feast_logo.png\" width=\"32\" height=\"32\"/> | FEAST | Feature Store for Machine Learning | [FEAST Docs](https://feast.dev/) |\n",
    "| <img src=\"https://docs.hopsworks.ai/latest/assets/images/hops-logo.png\" width=\"32\" height=\"32\"/> | Hopsworks | Feature Store and MLOps platform | [Hopsworks Docs](https://docs.hopsworks.ai/) |\n",
    "| <img src=\"https://plotnine.org/images/logo-540.png\" width=\"32\" height=\"32\"/> | plotnine | Grammar of Graphics for Python | [plotnine Docs](https://plotnine.readthedocs.io/en/stable/) |\n"
   ]
  },
  {
   "cell_type": "markdown",
   "metadata": {},
   "source": []
  }
 ],
 "metadata": {
  "language_info": {
   "name": "python"
  }
 },
 "nbformat": 4,
 "nbformat_minor": 2
}
