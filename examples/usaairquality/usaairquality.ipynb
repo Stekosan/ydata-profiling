{
 "cells": [
  {
   "cell_type": "markdown",
   "id": "75bdb225-9ba6-479b-b15a-8fde07034146",
   "metadata": {},
   "source": [
    "## Pandas Profiling: USA Air Pollution Data\n",
    "Source of data: https://data.world/data-society/us-air-pollution-data"
   ]
  },
  {
   "cell_type": "markdown",
   "id": "0f376d03-b7de-4c38-9eaf-ad74dbfebca6",
   "metadata": {},
   "source": [
    "The autoreload instruction reloads modules automatically before code execution, which is helpful for the update below."
   ]
  },
  {
   "cell_type": "code",
   "execution_count": 1,
   "id": "7c47c4c4",
   "metadata": {},
   "outputs": [],
   "source": [
    "%load_ext autoreload\n",
    "%autoreload 2 "
   ]
  },
  {
   "cell_type": "markdown",
   "id": "aecec0a9",
   "metadata": {},
   "source": [
    "#%load_ext autoreload # Load the autoreload extension\n",
    "#%autoreload 2 # Autoreload all modules"
   ]
  },
  {
   "cell_type": "markdown",
   "id": "fd3ef034-d2d1-4e12-9c8d-7cd685bfe001",
   "metadata": {},
   "source": [
    "Make sure that we have the latest version of pandas-profiling."
   ]
  },
  {
   "cell_type": "markdown",
   "id": "e5c9450f",
   "metadata": {},
   "source": [
    "# Hide output"
   ]
  },
  {
   "cell_type": "code",
   "execution_count": 2,
   "id": "6bcf2de2-58bf-4995-8cf7-3145322b45f7",
   "metadata": {},
   "outputs": [],
   "source": [
    "%%capture \n",
    "import sys"
   ]
  },
  {
   "cell_type": "markdown",
   "id": "316eed80",
   "metadata": {},
   "source": [
    "## Install the pandas-profiling package\n",
    "\n",
    "## Install the jupyter_contrib_nbextensions package\n",
    "\n",
    "## Enable the ipywidgets extension"
   ]
  },
  {
   "cell_type": "code",
   "execution_count": 3,
   "id": "fe634e04",
   "metadata": {},
   "outputs": [
    {
     "name": "stdout",
     "output_type": "stream",
     "text": [
      "Requirement already satisfied: pandas-profiling[notebook] in c:\\users\\steve\\appdata\\local\\programs\\python\\python312\\lib\\site-packages (3.2.0)\n",
      "Requirement already satisfied: joblib~=1.1.0 in c:\\users\\steve\\appdata\\local\\programs\\python\\python312\\lib\\site-packages (from pandas-profiling[notebook]) (1.1.1)\n",
      "Requirement already satisfied: scipy>=1.4.1 in c:\\users\\steve\\appdata\\local\\programs\\python\\python312\\lib\\site-packages (from pandas-profiling[notebook]) (1.12.0)\n",
      "Requirement already satisfied: pandas!=1.0.0,!=1.0.1,!=1.0.2,!=1.1.0,>=0.25.3 in c:\\users\\steve\\appdata\\local\\programs\\python\\python312\\lib\\site-packages (from pandas-profiling[notebook]) (2.2.1)\n",
      "Requirement already satisfied: matplotlib>=3.2.0 in c:\\users\\steve\\appdata\\local\\programs\\python\\python312\\lib\\site-packages (from pandas-profiling[notebook]) (3.8.3)\n",
      "Requirement already satisfied: pydantic>=1.8.1 in c:\\users\\steve\\appdata\\local\\programs\\python\\python312\\lib\\site-packages (from pandas-profiling[notebook]) (2.8.2)\n",
      "Requirement already satisfied: PyYAML>=5.0.0 in c:\\users\\steve\\appdata\\local\\programs\\python\\python312\\lib\\site-packages (from pandas-profiling[notebook]) (6.0.1)\n",
      "Requirement already satisfied: jinja2>=2.11.1 in c:\\users\\steve\\appdata\\local\\programs\\python\\python312\\lib\\site-packages (from pandas-profiling[notebook]) (3.1.3)\n",
      "Requirement already satisfied: markupsafe~=2.1.1 in c:\\users\\steve\\appdata\\local\\programs\\python\\python312\\lib\\site-packages (from pandas-profiling[notebook]) (2.1.5)\n",
      "Collecting visions==0.7.4 (from visions[type_image_path]==0.7.4->pandas-profiling[notebook])\n",
      "  Using cached visions-0.7.4-py3-none-any.whl.metadata (5.9 kB)\n",
      "Requirement already satisfied: numpy>=1.16.0 in c:\\users\\steve\\appdata\\local\\programs\\python\\python312\\lib\\site-packages (from pandas-profiling[notebook]) (1.26.4)\n",
      "Requirement already satisfied: htmlmin>=0.1.12 in c:\\users\\steve\\appdata\\local\\programs\\python\\python312\\lib\\site-packages (from pandas-profiling[notebook]) (0.1.12)\n",
      "Requirement already satisfied: missingno>=0.4.2 in c:\\users\\steve\\appdata\\local\\programs\\python\\python312\\lib\\site-packages (from pandas-profiling[notebook]) (0.5.2)\n",
      "Requirement already satisfied: phik>=0.11.1 in c:\\users\\steve\\appdata\\local\\programs\\python\\python312\\lib\\site-packages (from pandas-profiling[notebook]) (0.12.4)\n",
      "Requirement already satisfied: tangled-up-in-unicode==0.2.0 in c:\\users\\steve\\appdata\\local\\programs\\python\\python312\\lib\\site-packages (from pandas-profiling[notebook]) (0.2.0)\n",
      "Requirement already satisfied: requests>=2.24.0 in c:\\users\\steve\\appdata\\local\\programs\\python\\python312\\lib\\site-packages (from pandas-profiling[notebook]) (2.31.0)\n",
      "Requirement already satisfied: tqdm>=4.48.2 in c:\\users\\steve\\appdata\\local\\programs\\python\\python312\\lib\\site-packages (from pandas-profiling[notebook]) (4.66.2)\n",
      "Requirement already satisfied: seaborn>=0.10.1 in c:\\users\\steve\\appdata\\local\\programs\\python\\python312\\lib\\site-packages (from pandas-profiling[notebook]) (0.13.2)\n",
      "Requirement already satisfied: multimethod>=1.4 in c:\\users\\steve\\appdata\\local\\programs\\python\\python312\\lib\\site-packages (from pandas-profiling[notebook]) (1.12)\n",
      "Requirement already satisfied: jupyter-client>=5.3.4 in c:\\users\\steve\\appdata\\local\\programs\\python\\python312\\lib\\site-packages (from pandas-profiling[notebook]) (8.6.1)\n",
      "Requirement already satisfied: jupyter-core>=4.6.3 in c:\\users\\steve\\appdata\\local\\programs\\python\\python312\\lib\\site-packages (from pandas-profiling[notebook]) (5.7.2)\n",
      "Requirement already satisfied: ipywidgets>=7.5.1 in c:\\users\\steve\\appdata\\local\\programs\\python\\python312\\lib\\site-packages (from pandas-profiling[notebook]) (8.1.2)\n",
      "Requirement already satisfied: attrs>=19.3.0 in c:\\users\\steve\\appdata\\local\\programs\\python\\python312\\lib\\site-packages (from visions==0.7.4->visions[type_image_path]==0.7.4->pandas-profiling[notebook]) (23.2.0)\n",
      "Requirement already satisfied: networkx>=2.4 in c:\\users\\steve\\appdata\\local\\programs\\python\\python312\\lib\\site-packages (from visions==0.7.4->visions[type_image_path]==0.7.4->pandas-profiling[notebook]) (3.3)\n",
      "Requirement already satisfied: imagehash in c:\\users\\steve\\appdata\\local\\programs\\python\\python312\\lib\\site-packages (from visions[type_image_path]==0.7.4->pandas-profiling[notebook]) (4.3.1)\n",
      "Requirement already satisfied: Pillow in c:\\users\\steve\\appdata\\local\\programs\\python\\python312\\lib\\site-packages (from visions[type_image_path]==0.7.4->pandas-profiling[notebook]) (10.2.0)\n",
      "Requirement already satisfied: comm>=0.1.3 in c:\\users\\steve\\appdata\\local\\programs\\python\\python312\\lib\\site-packages (from ipywidgets>=7.5.1->pandas-profiling[notebook]) (0.2.2)\n",
      "Requirement already satisfied: ipython>=6.1.0 in c:\\users\\steve\\appdata\\local\\programs\\python\\python312\\lib\\site-packages (from ipywidgets>=7.5.1->pandas-profiling[notebook]) (8.22.2)\n",
      "Requirement already satisfied: traitlets>=4.3.1 in c:\\users\\steve\\appdata\\local\\programs\\python\\python312\\lib\\site-packages (from ipywidgets>=7.5.1->pandas-profiling[notebook]) (5.14.2)\n",
      "Requirement already satisfied: widgetsnbextension~=4.0.10 in c:\\users\\steve\\appdata\\local\\programs\\python\\python312\\lib\\site-packages (from ipywidgets>=7.5.1->pandas-profiling[notebook]) (4.0.10)\n",
      "Requirement already satisfied: jupyterlab-widgets~=3.0.10 in c:\\users\\steve\\appdata\\local\\programs\\python\\python312\\lib\\site-packages (from ipywidgets>=7.5.1->pandas-profiling[notebook]) (3.0.10)\n",
      "Requirement already satisfied: python-dateutil>=2.8.2 in c:\\users\\steve\\appdata\\local\\programs\\python\\python312\\lib\\site-packages (from jupyter-client>=5.3.4->pandas-profiling[notebook]) (2.9.0.post0)\n",
      "Requirement already satisfied: pyzmq>=23.0 in c:\\users\\steve\\appdata\\local\\programs\\python\\python312\\lib\\site-packages (from jupyter-client>=5.3.4->pandas-profiling[notebook]) (25.1.2)\n",
      "Requirement already satisfied: tornado>=6.2 in c:\\users\\steve\\appdata\\local\\programs\\python\\python312\\lib\\site-packages (from jupyter-client>=5.3.4->pandas-profiling[notebook]) (6.4)\n",
      "Requirement already satisfied: platformdirs>=2.5 in c:\\users\\steve\\appdata\\local\\programs\\python\\python312\\lib\\site-packages (from jupyter-core>=4.6.3->pandas-profiling[notebook]) (4.2.0)\n",
      "Requirement already satisfied: pywin32>=300 in c:\\users\\steve\\appdata\\local\\programs\\python\\python312\\lib\\site-packages (from jupyter-core>=4.6.3->pandas-profiling[notebook]) (306)\n",
      "Requirement already satisfied: contourpy>=1.0.1 in c:\\users\\steve\\appdata\\local\\programs\\python\\python312\\lib\\site-packages (from matplotlib>=3.2.0->pandas-profiling[notebook]) (1.2.0)\n",
      "Requirement already satisfied: cycler>=0.10 in c:\\users\\steve\\appdata\\local\\programs\\python\\python312\\lib\\site-packages (from matplotlib>=3.2.0->pandas-profiling[notebook]) (0.12.1)\n",
      "Requirement already satisfied: fonttools>=4.22.0 in c:\\users\\steve\\appdata\\local\\programs\\python\\python312\\lib\\site-packages (from matplotlib>=3.2.0->pandas-profiling[notebook]) (4.50.0)\n",
      "Requirement already satisfied: kiwisolver>=1.3.1 in c:\\users\\steve\\appdata\\local\\programs\\python\\python312\\lib\\site-packages (from matplotlib>=3.2.0->pandas-profiling[notebook]) (1.4.5)\n",
      "Requirement already satisfied: packaging>=20.0 in c:\\users\\steve\\appdata\\local\\programs\\python\\python312\\lib\\site-packages (from matplotlib>=3.2.0->pandas-profiling[notebook]) (24.0)\n",
      "Requirement already satisfied: pyparsing>=2.3.1 in c:\\users\\steve\\appdata\\local\\programs\\python\\python312\\lib\\site-packages (from matplotlib>=3.2.0->pandas-profiling[notebook]) (3.1.2)\n",
      "Requirement already satisfied: pytz>=2020.1 in c:\\users\\steve\\appdata\\local\\programs\\python\\python312\\lib\\site-packages (from pandas!=1.0.0,!=1.0.1,!=1.0.2,!=1.1.0,>=0.25.3->pandas-profiling[notebook]) (2024.1)\n",
      "Requirement already satisfied: tzdata>=2022.7 in c:\\users\\steve\\appdata\\local\\programs\\python\\python312\\lib\\site-packages (from pandas!=1.0.0,!=1.0.1,!=1.0.2,!=1.1.0,>=0.25.3->pandas-profiling[notebook]) (2024.1)\n",
      "Requirement already satisfied: annotated-types>=0.4.0 in c:\\users\\steve\\appdata\\local\\programs\\python\\python312\\lib\\site-packages (from pydantic>=1.8.1->pandas-profiling[notebook]) (0.7.0)\n",
      "Requirement already satisfied: pydantic-core==2.20.1 in c:\\users\\steve\\appdata\\local\\programs\\python\\python312\\lib\\site-packages (from pydantic>=1.8.1->pandas-profiling[notebook]) (2.20.1)\n",
      "Requirement already satisfied: typing-extensions>=4.6.1 in c:\\users\\steve\\appdata\\local\\programs\\python\\python312\\lib\\site-packages (from pydantic>=1.8.1->pandas-profiling[notebook]) (4.12.2)\n",
      "Requirement already satisfied: charset-normalizer<4,>=2 in c:\\users\\steve\\appdata\\local\\programs\\python\\python312\\lib\\site-packages (from requests>=2.24.0->pandas-profiling[notebook]) (3.3.2)\n",
      "Requirement already satisfied: idna<4,>=2.5 in c:\\users\\steve\\appdata\\local\\programs\\python\\python312\\lib\\site-packages (from requests>=2.24.0->pandas-profiling[notebook]) (3.7)\n",
      "Requirement already satisfied: urllib3<3,>=1.21.1 in c:\\users\\steve\\appdata\\local\\programs\\python\\python312\\lib\\site-packages (from requests>=2.24.0->pandas-profiling[notebook]) (2.2.1)\n",
      "Requirement already satisfied: certifi>=2017.4.17 in c:\\users\\steve\\appdata\\local\\programs\\python\\python312\\lib\\site-packages (from requests>=2.24.0->pandas-profiling[notebook]) (2024.2.2)\n",
      "Requirement already satisfied: colorama in c:\\users\\steve\\appdata\\local\\programs\\python\\python312\\lib\\site-packages (from tqdm>=4.48.2->pandas-profiling[notebook]) (0.4.6)\n",
      "Requirement already satisfied: decorator in c:\\users\\steve\\appdata\\local\\programs\\python\\python312\\lib\\site-packages (from ipython>=6.1.0->ipywidgets>=7.5.1->pandas-profiling[notebook]) (5.1.1)\n",
      "Requirement already satisfied: jedi>=0.16 in c:\\users\\steve\\appdata\\local\\programs\\python\\python312\\lib\\site-packages (from ipython>=6.1.0->ipywidgets>=7.5.1->pandas-profiling[notebook]) (0.19.1)\n",
      "Requirement already satisfied: matplotlib-inline in c:\\users\\steve\\appdata\\local\\programs\\python\\python312\\lib\\site-packages (from ipython>=6.1.0->ipywidgets>=7.5.1->pandas-profiling[notebook]) (0.1.6)\n",
      "Requirement already satisfied: prompt-toolkit<3.1.0,>=3.0.41 in c:\\users\\steve\\appdata\\local\\programs\\python\\python312\\lib\\site-packages (from ipython>=6.1.0->ipywidgets>=7.5.1->pandas-profiling[notebook]) (3.0.43)\n",
      "Requirement already satisfied: pygments>=2.4.0 in c:\\users\\steve\\appdata\\local\\programs\\python\\python312\\lib\\site-packages (from ipython>=6.1.0->ipywidgets>=7.5.1->pandas-profiling[notebook]) (2.17.2)\n",
      "Requirement already satisfied: stack-data in c:\\users\\steve\\appdata\\local\\programs\\python\\python312\\lib\\site-packages (from ipython>=6.1.0->ipywidgets>=7.5.1->pandas-profiling[notebook]) (0.6.3)\n",
      "Requirement already satisfied: six>=1.5 in c:\\users\\steve\\appdata\\local\\programs\\python\\python312\\lib\\site-packages (from python-dateutil>=2.8.2->jupyter-client>=5.3.4->pandas-profiling[notebook]) (1.16.0)\n",
      "Requirement already satisfied: PyWavelets in c:\\users\\steve\\appdata\\local\\programs\\python\\python312\\lib\\site-packages (from imagehash->visions[type_image_path]==0.7.4->pandas-profiling[notebook]) (1.6.0)\n",
      "Requirement already satisfied: parso<0.9.0,>=0.8.3 in c:\\users\\steve\\appdata\\local\\programs\\python\\python312\\lib\\site-packages (from jedi>=0.16->ipython>=6.1.0->ipywidgets>=7.5.1->pandas-profiling[notebook]) (0.8.3)\n",
      "Requirement already satisfied: wcwidth in c:\\users\\steve\\appdata\\local\\programs\\python\\python312\\lib\\site-packages (from prompt-toolkit<3.1.0,>=3.0.41->ipython>=6.1.0->ipywidgets>=7.5.1->pandas-profiling[notebook]) (0.2.13)\n",
      "Requirement already satisfied: executing>=1.2.0 in c:\\users\\steve\\appdata\\local\\programs\\python\\python312\\lib\\site-packages (from stack-data->ipython>=6.1.0->ipywidgets>=7.5.1->pandas-profiling[notebook]) (2.0.1)\n",
      "Requirement already satisfied: asttokens>=2.1.0 in c:\\users\\steve\\appdata\\local\\programs\\python\\python312\\lib\\site-packages (from stack-data->ipython>=6.1.0->ipywidgets>=7.5.1->pandas-profiling[notebook]) (2.4.1)\n",
      "Requirement already satisfied: pure-eval in c:\\users\\steve\\appdata\\local\\programs\\python\\python312\\lib\\site-packages (from stack-data->ipython>=6.1.0->ipywidgets>=7.5.1->pandas-profiling[notebook]) (0.2.2)\n",
      "Using cached visions-0.7.4-py3-none-any.whl (102 kB)\n",
      "Installing collected packages: visions\n",
      "  Attempting uninstall: visions\n",
      "    Found existing installation: visions 0.7.6\n",
      "    Uninstalling visions-0.7.6:\n",
      "      Successfully uninstalled visions-0.7.6\n",
      "Successfully installed visions-0.7.4\n"
     ]
    },
    {
     "name": "stderr",
     "output_type": "stream",
     "text": [
      "ERROR: pip's dependency resolver does not currently take into account all the packages that are installed. This behaviour is the source of the following dependency conflicts.\n",
      "ydata-profiling 4.9.0 requires visions[type_image_path]<0.7.7,>=0.7.5, but you have visions 0.7.4 which is incompatible.\n",
      "\n",
      "[notice] A new release of pip is available: 24.0 -> 24.1.2\n",
      "[notice] To update, run: python.exe -m pip install --upgrade pip\n"
     ]
    }
   ],
   "source": [
    "!{sys.executable} -m pip install -U pandas-profiling[notebook] "
   ]
  },
  {
   "cell_type": "code",
   "execution_count": 4,
   "id": "0001f973",
   "metadata": {},
   "outputs": [],
   "source": [
    "#%pip install jupyter-contrib-nbextensions"
   ]
  },
  {
   "cell_type": "code",
   "execution_count": 5,
   "id": "9f2ee817",
   "metadata": {},
   "outputs": [
    {
     "name": "stdout",
     "output_type": "stream",
     "text": [
      "Name: jupyter_contrib_nbextensions\n",
      "Version: 0.7.0\n",
      "Summary: A collection of Jupyter nbextensions.\n",
      "Home-page: https://github.com/ipython-contrib/jupyter_contrib_nbextensions.git\n",
      "Author: ipython-contrib and jupyter-contrib developers\n",
      "Author-email: jupytercontrib@gmail.com\n",
      "License: BSD\n",
      "Location: c:\\Users\\Steve\\AppData\\Local\\Programs\\Python\\Python312\\Lib\\site-packages\n",
      "Requires: ipython-genutils, jupyter-contrib-core, jupyter-core, jupyter-highlight-selected-word, jupyter-nbextensions-configurator, lxml, nbconvert, notebook, tornado, traitlets\n",
      "Required-by: \n",
      "Note: you may need to restart the kernel to use updated packages.\n"
     ]
    }
   ],
   "source": [
    "%pip show jupyter_contrib_nbextensions"
   ]
  },
  {
   "cell_type": "code",
   "execution_count": 6,
   "id": "9ec5dacf",
   "metadata": {},
   "outputs": [
    {
     "name": "stderr",
     "output_type": "stream",
     "text": [
      "usage: jupyter [-h] [--version] [--config-dir] [--data-dir] [--runtime-dir]\n",
      "               [--paths] [--json] [--debug]\n",
      "               [subcommand]\n",
      "\n",
      "Jupyter: Interactive Computing\n",
      "\n",
      "positional arguments:\n",
      "  subcommand     the subcommand to launch\n",
      "\n",
      "options:\n",
      "  -h, --help     show this help message and exit\n",
      "  --version      show the versions of core jupyter packages and exit\n",
      "  --config-dir   show Jupyter config dir\n",
      "  --data-dir     show Jupyter data dir\n",
      "  --runtime-dir  show Jupyter runtime dir\n",
      "  --paths        show all Jupyter paths. Add --json for machine-readable\n",
      "                 format.\n",
      "  --json         output paths as machine-readable json\n",
      "  --debug        output debug information about paths\n",
      "\n",
      "Available subcommands: console contrib dejavu events execute kernel kernelspec\n",
      "lab labextension labhub migrate nbconvert nbextensions_configurator notebook\n",
      "qtconsole run server troubleshoot trust\n",
      "\n",
      "Jupyter command `jupyter-nbextension` not found.\n"
     ]
    }
   ],
   "source": [
    "!jupyter nbextension enable --py widgetsnbextension "
   ]
  },
  {
   "cell_type": "code",
   "execution_count": 7,
   "id": "cdecec22",
   "metadata": {},
   "outputs": [
    {
     "name": "stderr",
     "output_type": "stream",
     "text": [
      "usage: jupyter [-h] [--version] [--config-dir] [--data-dir] [--runtime-dir]\n",
      "               [--paths] [--json] [--debug]\n",
      "               [subcommand]\n",
      "\n",
      "Jupyter: Interactive Computing\n",
      "\n",
      "positional arguments:\n",
      "  subcommand     the subcommand to launch\n",
      "\n",
      "options:\n",
      "  -h, --help     show this help message and exit\n",
      "  --version      show the versions of core jupyter packages and exit\n",
      "  --config-dir   show Jupyter config dir\n",
      "  --data-dir     show Jupyter data dir\n",
      "  --runtime-dir  show Jupyter runtime dir\n",
      "  --paths        show all Jupyter paths. Add --json for machine-readable\n",
      "                 format.\n",
      "  --json         output paths as machine-readable json\n",
      "  --debug        output debug information about paths\n",
      "\n",
      "Available subcommands: console contrib dejavu events execute kernel kernelspec\n",
      "lab labextension labhub migrate nbconvert nbextensions_configurator notebook\n",
      "qtconsole run server troubleshoot trust\n",
      "\n",
      "Jupyter command `jupyter-nbextension` not found.\n"
     ]
    }
   ],
   "source": [
    "!jupyter nbextension list"
   ]
  },
  {
   "cell_type": "markdown",
   "id": "c6d526f3-14fe-454e-8b9c-6662ceac81c3",
   "metadata": {},
   "source": [
    "You might want to restart the kernel now."
   ]
  },
  {
   "cell_type": "markdown",
   "id": "da73be69-6618-463b-8e5d-b8fd4e4bfdfb",
   "metadata": {},
   "source": [
    "### Import libraries"
   ]
  },
  {
   "cell_type": "code",
   "execution_count": 8,
   "id": "bd217fad",
   "metadata": {},
   "outputs": [],
   "source": [
    "#%pip install ydata-profiling"
   ]
  },
  {
   "cell_type": "code",
   "execution_count": 9,
   "id": "923aa02e",
   "metadata": {},
   "outputs": [
    {
     "name": "stdout",
     "output_type": "stream",
     "text": [
      "Name: ydata-profiling\n",
      "Version: 4.9.0\n",
      "Summary: Generate profile report for pandas DataFrame\n",
      "Home-page: https://github.com/ydataai/ydata-profiling\n",
      "Author: YData Labs Inc\n",
      "Author-email: opensource@ydata.ai\n",
      "License: MIT\n",
      "Location: c:\\Users\\Steve\\AppData\\Local\\Programs\\Python\\Python312\\Lib\\site-packages\n",
      "Requires: dacite, htmlmin, imagehash, jinja2, matplotlib, multimethod, numba, numpy, pandas, phik, pydantic, PyYAML, requests, scipy, seaborn, statsmodels, tqdm, typeguard, visions, wordcloud\n",
      "Required-by: \n",
      "Note: you may need to restart the kernel to use updated packages.\n"
     ]
    }
   ],
   "source": [
    "%pip show ydata-profiling"
   ]
  },
  {
   "cell_type": "code",
   "execution_count": 10,
   "id": "b33a26ed-4e1e-4689-93ce-fa0f98f48e89",
   "metadata": {},
   "outputs": [
    {
     "ename": "AttributeError",
     "evalue": "module 'numba' has no attribute 'generated_jit'",
     "output_type": "error",
     "traceback": [
      "\u001b[1;31m---------------------------------------------------------------------------\u001b[0m",
      "\u001b[1;31mAttributeError\u001b[0m                            Traceback (most recent call last)",
      "Cell \u001b[1;32mIn[10], line 3\u001b[0m\n\u001b[0;32m      1\u001b[0m \u001b[38;5;28;01mimport\u001b[39;00m \u001b[38;5;21;01mpandas\u001b[39;00m \u001b[38;5;28;01mas\u001b[39;00m \u001b[38;5;21;01mpd\u001b[39;00m\n\u001b[1;32m----> 3\u001b[0m \u001b[38;5;28;01mfrom\u001b[39;00m \u001b[38;5;21;01mydata_profiling\u001b[39;00m \u001b[38;5;28;01mimport\u001b[39;00m ProfileReport\n\u001b[0;32m      4\u001b[0m \u001b[38;5;28;01mfrom\u001b[39;00m \u001b[38;5;21;01mydata_profiling\u001b[39;00m\u001b[38;5;21;01m.\u001b[39;00m\u001b[38;5;21;01mutils\u001b[39;00m\u001b[38;5;21;01m.\u001b[39;00m\u001b[38;5;21;01mcache\u001b[39;00m \u001b[38;5;28;01mimport\u001b[39;00m cache_file\n",
      "File \u001b[1;32mc:\\Users\\Steve\\AppData\\Local\\Programs\\Python\\Python312\\Lib\\site-packages\\ydata_profiling\\__init__.py:14\u001b[0m\n\u001b[0;32m     10\u001b[0m warnings\u001b[38;5;241m.\u001b[39msimplefilter(\u001b[38;5;124m\"\u001b[39m\u001b[38;5;124mignore\u001b[39m\u001b[38;5;124m\"\u001b[39m, category\u001b[38;5;241m=\u001b[39mNumbaDeprecationWarning)\n\u001b[0;32m     12\u001b[0m \u001b[38;5;28;01mimport\u001b[39;00m \u001b[38;5;21;01mimportlib\u001b[39;00m\u001b[38;5;21;01m.\u001b[39;00m\u001b[38;5;21;01mutil\u001b[39;00m  \u001b[38;5;66;03m# isort:skip # noqa\u001b[39;00m\n\u001b[1;32m---> 14\u001b[0m \u001b[38;5;28;01mfrom\u001b[39;00m \u001b[38;5;21;01mydata_profiling\u001b[39;00m\u001b[38;5;21;01m.\u001b[39;00m\u001b[38;5;21;01mcompare_reports\u001b[39;00m \u001b[38;5;28;01mimport\u001b[39;00m compare  \u001b[38;5;66;03m# isort:skip # noqa\u001b[39;00m\n\u001b[0;32m     15\u001b[0m \u001b[38;5;28;01mfrom\u001b[39;00m \u001b[38;5;21;01mydata_profiling\u001b[39;00m\u001b[38;5;21;01m.\u001b[39;00m\u001b[38;5;21;01mcontroller\u001b[39;00m \u001b[38;5;28;01mimport\u001b[39;00m pandas_decorator  \u001b[38;5;66;03m# isort:skip # noqa\u001b[39;00m\n\u001b[0;32m     16\u001b[0m \u001b[38;5;28;01mfrom\u001b[39;00m \u001b[38;5;21;01mydata_profiling\u001b[39;00m\u001b[38;5;21;01m.\u001b[39;00m\u001b[38;5;21;01mprofile_report\u001b[39;00m \u001b[38;5;28;01mimport\u001b[39;00m ProfileReport  \u001b[38;5;66;03m# isort:skip # noqa\u001b[39;00m\n",
      "File \u001b[1;32mc:\\Users\\Steve\\AppData\\Local\\Programs\\Python\\Python312\\Lib\\site-packages\\ydata_profiling\\compare_reports.py:12\u001b[0m\n\u001b[0;32m     10\u001b[0m \u001b[38;5;28;01mfrom\u001b[39;00m \u001b[38;5;21;01mydata_profiling\u001b[39;00m\u001b[38;5;21;01m.\u001b[39;00m\u001b[38;5;21;01mmodel\u001b[39;00m \u001b[38;5;28;01mimport\u001b[39;00m BaseDescription\n\u001b[0;32m     11\u001b[0m \u001b[38;5;28;01mfrom\u001b[39;00m \u001b[38;5;21;01mydata_profiling\u001b[39;00m\u001b[38;5;21;01m.\u001b[39;00m\u001b[38;5;21;01mmodel\u001b[39;00m\u001b[38;5;21;01m.\u001b[39;00m\u001b[38;5;21;01malerts\u001b[39;00m \u001b[38;5;28;01mimport\u001b[39;00m Alert\n\u001b[1;32m---> 12\u001b[0m \u001b[38;5;28;01mfrom\u001b[39;00m \u001b[38;5;21;01mydata_profiling\u001b[39;00m\u001b[38;5;21;01m.\u001b[39;00m\u001b[38;5;21;01mprofile_report\u001b[39;00m \u001b[38;5;28;01mimport\u001b[39;00m ProfileReport\n\u001b[0;32m     15\u001b[0m \u001b[38;5;28;01mdef\u001b[39;00m \u001b[38;5;21m_should_wrap\u001b[39m(v1: Any, v2: Any) \u001b[38;5;241m-\u001b[39m\u001b[38;5;241m>\u001b[39m \u001b[38;5;28mbool\u001b[39m:\n\u001b[0;32m     16\u001b[0m     \u001b[38;5;28;01mif\u001b[39;00m \u001b[38;5;28misinstance\u001b[39m(v1, (\u001b[38;5;28mlist\u001b[39m, \u001b[38;5;28mdict\u001b[39m)):\n",
      "File \u001b[1;32mc:\\Users\\Steve\\AppData\\Local\\Programs\\Python\\Python312\\Lib\\site-packages\\ydata_profiling\\profile_report.py:25\u001b[0m\n\u001b[0;32m     23\u001b[0m \u001b[38;5;28;01mfrom\u001b[39;00m \u001b[38;5;21;01mtqdm\u001b[39;00m\u001b[38;5;21;01m.\u001b[39;00m\u001b[38;5;21;01mauto\u001b[39;00m \u001b[38;5;28;01mimport\u001b[39;00m tqdm\n\u001b[0;32m     24\u001b[0m \u001b[38;5;28;01mfrom\u001b[39;00m \u001b[38;5;21;01mtypeguard\u001b[39;00m \u001b[38;5;28;01mimport\u001b[39;00m typechecked\n\u001b[1;32m---> 25\u001b[0m \u001b[38;5;28;01mfrom\u001b[39;00m \u001b[38;5;21;01mvisions\u001b[39;00m \u001b[38;5;28;01mimport\u001b[39;00m VisionsTypeset\n\u001b[0;32m     27\u001b[0m \u001b[38;5;28;01mfrom\u001b[39;00m \u001b[38;5;21;01mydata_profiling\u001b[39;00m\u001b[38;5;21;01m.\u001b[39;00m\u001b[38;5;21;01mconfig\u001b[39;00m \u001b[38;5;28;01mimport\u001b[39;00m Config, Settings, SparkSettings\n\u001b[0;32m     28\u001b[0m \u001b[38;5;28;01mfrom\u001b[39;00m \u001b[38;5;21;01mydata_profiling\u001b[39;00m\u001b[38;5;21;01m.\u001b[39;00m\u001b[38;5;21;01mexpectations_report\u001b[39;00m \u001b[38;5;28;01mimport\u001b[39;00m ExpectationsReport\n",
      "File \u001b[1;32mc:\\Users\\Steve\\AppData\\Local\\Programs\\Python\\Python312\\Lib\\site-packages\\visions\\__init__.py:4\u001b[0m\n\u001b[0;32m      1\u001b[0m \u001b[38;5;124;03m\"\"\"Core functionality\"\"\"\u001b[39;00m\n\u001b[0;32m      3\u001b[0m \u001b[38;5;28;01mfrom\u001b[39;00m \u001b[38;5;21;01mvisions\u001b[39;00m \u001b[38;5;28;01mimport\u001b[39;00m types, typesets, utils\n\u001b[1;32m----> 4\u001b[0m \u001b[38;5;28;01mfrom\u001b[39;00m \u001b[38;5;21;01mvisions\u001b[39;00m\u001b[38;5;21;01m.\u001b[39;00m\u001b[38;5;21;01mbackends\u001b[39;00m \u001b[38;5;28;01mimport\u001b[39;00m \u001b[38;5;241m*\u001b[39m\n\u001b[0;32m      5\u001b[0m \u001b[38;5;28;01mfrom\u001b[39;00m \u001b[38;5;21;01mvisions\u001b[39;00m\u001b[38;5;21;01m.\u001b[39;00m\u001b[38;5;21;01mdeclarative\u001b[39;00m \u001b[38;5;28;01mimport\u001b[39;00m create_type\n\u001b[0;32m      6\u001b[0m \u001b[38;5;28;01mfrom\u001b[39;00m \u001b[38;5;21;01mvisions\u001b[39;00m\u001b[38;5;21;01m.\u001b[39;00m\u001b[38;5;21;01mfunctional\u001b[39;00m \u001b[38;5;28;01mimport\u001b[39;00m (\n\u001b[0;32m      7\u001b[0m     cast_to_detected,\n\u001b[0;32m      8\u001b[0m     cast_to_inferred,\n\u001b[0;32m      9\u001b[0m     detect_type,\n\u001b[0;32m     10\u001b[0m     infer_type,\n\u001b[0;32m     11\u001b[0m )\n",
      "File \u001b[1;32mc:\\Users\\Steve\\AppData\\Local\\Programs\\Python\\Python312\\Lib\\site-packages\\visions\\backends\\__init__.py:9\u001b[0m\n\u001b[0;32m      6\u001b[0m \u001b[38;5;28;01mtry\u001b[39;00m:\n\u001b[0;32m      7\u001b[0m     \u001b[38;5;28;01mimport\u001b[39;00m \u001b[38;5;21;01mpandas\u001b[39;00m \u001b[38;5;28;01mas\u001b[39;00m \u001b[38;5;21;01mpd\u001b[39;00m\n\u001b[1;32m----> 9\u001b[0m     \u001b[38;5;28;01mimport\u001b[39;00m \u001b[38;5;21;01mvisions\u001b[39;00m\u001b[38;5;21;01m.\u001b[39;00m\u001b[38;5;21;01mbackends\u001b[39;00m\u001b[38;5;21;01m.\u001b[39;00m\u001b[38;5;21;01mpandas\u001b[39;00m\n\u001b[0;32m     10\u001b[0m     \u001b[38;5;28;01mfrom\u001b[39;00m \u001b[38;5;21;01mvisions\u001b[39;00m\u001b[38;5;21;01m.\u001b[39;00m\u001b[38;5;21;01mbackends\u001b[39;00m\u001b[38;5;21;01m.\u001b[39;00m\u001b[38;5;21;01mpandas\u001b[39;00m\u001b[38;5;21;01m.\u001b[39;00m\u001b[38;5;21;01mtest_utils\u001b[39;00m \u001b[38;5;28;01mimport\u001b[39;00m pandas_version\n\u001b[0;32m     12\u001b[0m     \u001b[38;5;28;01mif\u001b[39;00m pandas_version[\u001b[38;5;241m0\u001b[39m] \u001b[38;5;241m<\u001b[39m \u001b[38;5;241m1\u001b[39m:\n",
      "File \u001b[1;32mc:\\Users\\Steve\\AppData\\Local\\Programs\\Python\\Python312\\Lib\\site-packages\\visions\\backends\\pandas\\__init__.py:2\u001b[0m\n\u001b[0;32m      1\u001b[0m \u001b[38;5;28;01mimport\u001b[39;00m \u001b[38;5;21;01mvisions\u001b[39;00m\u001b[38;5;21;01m.\u001b[39;00m\u001b[38;5;21;01mbackends\u001b[39;00m\u001b[38;5;21;01m.\u001b[39;00m\u001b[38;5;21;01mpandas\u001b[39;00m\u001b[38;5;21;01m.\u001b[39;00m\u001b[38;5;21;01mtraversal\u001b[39;00m\n\u001b[1;32m----> 2\u001b[0m \u001b[38;5;28;01mimport\u001b[39;00m \u001b[38;5;21;01mvisions\u001b[39;00m\u001b[38;5;21;01m.\u001b[39;00m\u001b[38;5;21;01mbackends\u001b[39;00m\u001b[38;5;21;01m.\u001b[39;00m\u001b[38;5;21;01mpandas\u001b[39;00m\u001b[38;5;21;01m.\u001b[39;00m\u001b[38;5;21;01mtypes\u001b[39;00m\n",
      "File \u001b[1;32mc:\\Users\\Steve\\AppData\\Local\\Programs\\Python\\Python312\\Lib\\site-packages\\visions\\backends\\pandas\\types\\__init__.py:3\u001b[0m\n\u001b[0;32m      1\u001b[0m \u001b[38;5;28;01mimport\u001b[39;00m \u001b[38;5;21;01mvisions\u001b[39;00m\u001b[38;5;21;01m.\u001b[39;00m\u001b[38;5;21;01mbackends\u001b[39;00m\u001b[38;5;21;01m.\u001b[39;00m\u001b[38;5;21;01mpandas\u001b[39;00m\u001b[38;5;21;01m.\u001b[39;00m\u001b[38;5;21;01mtypes\u001b[39;00m\u001b[38;5;21;01m.\u001b[39;00m\u001b[38;5;21;01mboolean\u001b[39;00m\n\u001b[0;32m      2\u001b[0m \u001b[38;5;28;01mimport\u001b[39;00m \u001b[38;5;21;01mvisions\u001b[39;00m\u001b[38;5;21;01m.\u001b[39;00m\u001b[38;5;21;01mbackends\u001b[39;00m\u001b[38;5;21;01m.\u001b[39;00m\u001b[38;5;21;01mpandas\u001b[39;00m\u001b[38;5;21;01m.\u001b[39;00m\u001b[38;5;21;01mtypes\u001b[39;00m\u001b[38;5;21;01m.\u001b[39;00m\u001b[38;5;21;01mcategorical\u001b[39;00m\n\u001b[1;32m----> 3\u001b[0m \u001b[38;5;28;01mimport\u001b[39;00m \u001b[38;5;21;01mvisions\u001b[39;00m\u001b[38;5;21;01m.\u001b[39;00m\u001b[38;5;21;01mbackends\u001b[39;00m\u001b[38;5;21;01m.\u001b[39;00m\u001b[38;5;21;01mpandas\u001b[39;00m\u001b[38;5;21;01m.\u001b[39;00m\u001b[38;5;21;01mtypes\u001b[39;00m\u001b[38;5;21;01m.\u001b[39;00m\u001b[38;5;21;01mcomplex\u001b[39;00m\n\u001b[0;32m      4\u001b[0m \u001b[38;5;28;01mimport\u001b[39;00m \u001b[38;5;21;01mvisions\u001b[39;00m\u001b[38;5;21;01m.\u001b[39;00m\u001b[38;5;21;01mbackends\u001b[39;00m\u001b[38;5;21;01m.\u001b[39;00m\u001b[38;5;21;01mpandas\u001b[39;00m\u001b[38;5;21;01m.\u001b[39;00m\u001b[38;5;21;01mtypes\u001b[39;00m\u001b[38;5;21;01m.\u001b[39;00m\u001b[38;5;21;01mcount\u001b[39;00m\n\u001b[0;32m      5\u001b[0m \u001b[38;5;28;01mimport\u001b[39;00m \u001b[38;5;21;01mvisions\u001b[39;00m\u001b[38;5;21;01m.\u001b[39;00m\u001b[38;5;21;01mbackends\u001b[39;00m\u001b[38;5;21;01m.\u001b[39;00m\u001b[38;5;21;01mpandas\u001b[39;00m\u001b[38;5;21;01m.\u001b[39;00m\u001b[38;5;21;01mtypes\u001b[39;00m\u001b[38;5;21;01m.\u001b[39;00m\u001b[38;5;21;01mdate\u001b[39;00m\n",
      "File \u001b[1;32mc:\\Users\\Steve\\AppData\\Local\\Programs\\Python\\Python312\\Lib\\site-packages\\visions\\backends\\pandas\\types\\complex.py:7\u001b[0m\n\u001b[0;32m      5\u001b[0m \u001b[38;5;28;01mfrom\u001b[39;00m \u001b[38;5;21;01mvisions\u001b[39;00m\u001b[38;5;21;01m.\u001b[39;00m\u001b[38;5;21;01mbackends\u001b[39;00m\u001b[38;5;21;01m.\u001b[39;00m\u001b[38;5;21;01mpandas\u001b[39;00m\u001b[38;5;21;01m.\u001b[39;00m\u001b[38;5;21;01mseries_utils\u001b[39;00m \u001b[38;5;28;01mimport\u001b[39;00m series_not_empty, series_not_sparse\n\u001b[0;32m      6\u001b[0m \u001b[38;5;28;01mfrom\u001b[39;00m \u001b[38;5;21;01mvisions\u001b[39;00m\u001b[38;5;21;01m.\u001b[39;00m\u001b[38;5;21;01mbackends\u001b[39;00m\u001b[38;5;21;01m.\u001b[39;00m\u001b[38;5;21;01mpandas\u001b[39;00m\u001b[38;5;21;01m.\u001b[39;00m\u001b[38;5;21;01mtypes\u001b[39;00m\u001b[38;5;21;01m.\u001b[39;00m\u001b[38;5;21;01mfloat\u001b[39;00m \u001b[38;5;28;01mimport\u001b[39;00m string_is_float\n\u001b[1;32m----> 7\u001b[0m \u001b[38;5;28;01mfrom\u001b[39;00m \u001b[38;5;21;01mvisions\u001b[39;00m\u001b[38;5;21;01m.\u001b[39;00m\u001b[38;5;21;01mbackends\u001b[39;00m\u001b[38;5;21;01m.\u001b[39;00m\u001b[38;5;21;01mshared\u001b[39;00m\u001b[38;5;21;01m.\u001b[39;00m\u001b[38;5;21;01mparallelization_engines\u001b[39;00m \u001b[38;5;28;01mimport\u001b[39;00m pandas_apply\n\u001b[0;32m      8\u001b[0m \u001b[38;5;28;01mfrom\u001b[39;00m \u001b[38;5;21;01mvisions\u001b[39;00m\u001b[38;5;21;01m.\u001b[39;00m\u001b[38;5;21;01mtypes\u001b[39;00m\u001b[38;5;21;01m.\u001b[39;00m\u001b[38;5;21;01mcomplex\u001b[39;00m \u001b[38;5;28;01mimport\u001b[39;00m Complex\n\u001b[0;32m      9\u001b[0m \u001b[38;5;28;01mfrom\u001b[39;00m \u001b[38;5;21;01mvisions\u001b[39;00m\u001b[38;5;21;01m.\u001b[39;00m\u001b[38;5;21;01mtypes\u001b[39;00m\u001b[38;5;21;01m.\u001b[39;00m\u001b[38;5;21;01mstring\u001b[39;00m \u001b[38;5;28;01mimport\u001b[39;00m String\n",
      "File \u001b[1;32mc:\\Users\\Steve\\AppData\\Local\\Programs\\Python\\Python312\\Lib\\site-packages\\visions\\backends\\shared\\__init__.py:1\u001b[0m\n\u001b[1;32m----> 1\u001b[0m \u001b[38;5;28;01mfrom\u001b[39;00m \u001b[38;5;21;01m.\u001b[39;00m \u001b[38;5;28;01mimport\u001b[39;00m nan_handling, parallelization_engines, utilities\n",
      "File \u001b[1;32mc:\\Users\\Steve\\AppData\\Local\\Programs\\Python\\Python312\\Lib\\site-packages\\visions\\backends\\shared\\nan_handling.py:34\u001b[0m\n\u001b[0;32m     30\u001b[0m \u001b[38;5;66;03m# TODO: There are optimizations here, just have to define precisely the desired missing ruleset in the\u001b[39;00m\n\u001b[0;32m     31\u001b[0m \u001b[38;5;66;03m# generated jit\u001b[39;00m\n\u001b[0;32m     32\u001b[0m \u001b[38;5;28;01mif\u001b[39;00m has_numba:\n\u001b[1;32m---> 34\u001b[0m     \u001b[38;5;129m@nb\u001b[39m\u001b[38;5;241;43m.\u001b[39;49m\u001b[43mgenerated_jit\u001b[49m(nopython\u001b[38;5;241m=\u001b[39m\u001b[38;5;28;01mTrue\u001b[39;00m)\n\u001b[0;32m     35\u001b[0m     \u001b[38;5;28;01mdef\u001b[39;00m \u001b[38;5;21mis_missing\u001b[39m(x):\n\u001b[0;32m     36\u001b[0m \u001b[38;5;250m        \u001b[39m\u001b[38;5;124;03m\"\"\"\u001b[39;00m\n\u001b[0;32m     37\u001b[0m \u001b[38;5;124;03m        Return True if the value is missing, False otherwise.\u001b[39;00m\n\u001b[0;32m     38\u001b[0m \u001b[38;5;124;03m        \"\"\"\u001b[39;00m\n\u001b[0;32m     39\u001b[0m         \u001b[38;5;28;01mif\u001b[39;00m \u001b[38;5;28misinstance\u001b[39m(x, nb\u001b[38;5;241m.\u001b[39mtypes\u001b[38;5;241m.\u001b[39mFloat):\n",
      "\u001b[1;31mAttributeError\u001b[0m: module 'numba' has no attribute 'generated_jit'"
     ]
    }
   ],
   "source": [
    "import pandas as pd\n",
    "\n",
    "from ydata_profiling import ProfileReport\n",
    "from ydata_profiling.utils.cache import cache_file"
   ]
  },
  {
   "cell_type": "markdown",
   "id": "1d7e1bf7-9891-4a8b-87e9-680225596f47",
   "metadata": {},
   "source": [
    "### Load and prepare the dataset"
   ]
  },
  {
   "cell_type": "code",
   "execution_count": null,
   "id": "7dab0b47-537d-4402-af71-1bdfd0cf6cdd",
   "metadata": {},
   "outputs": [],
   "source": [
    "file_name = cache_file(\n",
    "    \"uspollution_pollution_us_2000_2016.csv\",\n",
    "    \"https://query.data.world/s/mz5ot3l4zrgvldncfgxu34nda45kvb\",\n",
    ")\n",
    "\n",
    "df = pd.read_csv(file_name, index_col=[0])"
   ]
  },
  {
   "cell_type": "code",
   "execution_count": null,
   "id": "4c6225e9",
   "metadata": {},
   "outputs": [
    {
     "data": {
      "text/html": [
       "<div>\n",
       "<style scoped>\n",
       "    .dataframe tbody tr th:only-of-type {\n",
       "        vertical-align: middle;\n",
       "    }\n",
       "\n",
       "    .dataframe tbody tr th {\n",
       "        vertical-align: top;\n",
       "    }\n",
       "\n",
       "    .dataframe thead th {\n",
       "        text-align: right;\n",
       "    }\n",
       "</style>\n",
       "<table border=\"1\" class=\"dataframe\">\n",
       "  <thead>\n",
       "    <tr style=\"text-align: right;\">\n",
       "      <th></th>\n",
       "      <th>State Code</th>\n",
       "      <th>County Code</th>\n",
       "      <th>Site Num</th>\n",
       "      <th>Address</th>\n",
       "      <th>State</th>\n",
       "      <th>County</th>\n",
       "      <th>City</th>\n",
       "      <th>Date Local</th>\n",
       "      <th>NO2 Units</th>\n",
       "      <th>NO2 Mean</th>\n",
       "      <th>...</th>\n",
       "      <th>SO2 Units</th>\n",
       "      <th>SO2 Mean</th>\n",
       "      <th>SO2 1st Max Value</th>\n",
       "      <th>SO2 1st Max Hour</th>\n",
       "      <th>SO2 AQI</th>\n",
       "      <th>CO Units</th>\n",
       "      <th>CO Mean</th>\n",
       "      <th>CO 1st Max Value</th>\n",
       "      <th>CO 1st Max Hour</th>\n",
       "      <th>CO AQI</th>\n",
       "    </tr>\n",
       "  </thead>\n",
       "  <tbody>\n",
       "    <tr>\n",
       "      <th>0</th>\n",
       "      <td>4</td>\n",
       "      <td>13</td>\n",
       "      <td>3002</td>\n",
       "      <td>1645 E ROOSEVELT ST-CENTRAL PHOENIX STN</td>\n",
       "      <td>Arizona</td>\n",
       "      <td>Maricopa</td>\n",
       "      <td>Phoenix</td>\n",
       "      <td>2000-01-01</td>\n",
       "      <td>Parts per billion</td>\n",
       "      <td>19.041667</td>\n",
       "      <td>...</td>\n",
       "      <td>Parts per billion</td>\n",
       "      <td>3.000000</td>\n",
       "      <td>9.0</td>\n",
       "      <td>21</td>\n",
       "      <td>13.0</td>\n",
       "      <td>Parts per million</td>\n",
       "      <td>1.145833</td>\n",
       "      <td>4.2</td>\n",
       "      <td>21</td>\n",
       "      <td>NaN</td>\n",
       "    </tr>\n",
       "    <tr>\n",
       "      <th>1</th>\n",
       "      <td>4</td>\n",
       "      <td>13</td>\n",
       "      <td>3002</td>\n",
       "      <td>1645 E ROOSEVELT ST-CENTRAL PHOENIX STN</td>\n",
       "      <td>Arizona</td>\n",
       "      <td>Maricopa</td>\n",
       "      <td>Phoenix</td>\n",
       "      <td>2000-01-01</td>\n",
       "      <td>Parts per billion</td>\n",
       "      <td>19.041667</td>\n",
       "      <td>...</td>\n",
       "      <td>Parts per billion</td>\n",
       "      <td>3.000000</td>\n",
       "      <td>9.0</td>\n",
       "      <td>21</td>\n",
       "      <td>13.0</td>\n",
       "      <td>Parts per million</td>\n",
       "      <td>0.878947</td>\n",
       "      <td>2.2</td>\n",
       "      <td>23</td>\n",
       "      <td>25.0</td>\n",
       "    </tr>\n",
       "    <tr>\n",
       "      <th>2</th>\n",
       "      <td>4</td>\n",
       "      <td>13</td>\n",
       "      <td>3002</td>\n",
       "      <td>1645 E ROOSEVELT ST-CENTRAL PHOENIX STN</td>\n",
       "      <td>Arizona</td>\n",
       "      <td>Maricopa</td>\n",
       "      <td>Phoenix</td>\n",
       "      <td>2000-01-01</td>\n",
       "      <td>Parts per billion</td>\n",
       "      <td>19.041667</td>\n",
       "      <td>...</td>\n",
       "      <td>Parts per billion</td>\n",
       "      <td>2.975000</td>\n",
       "      <td>6.6</td>\n",
       "      <td>23</td>\n",
       "      <td>NaN</td>\n",
       "      <td>Parts per million</td>\n",
       "      <td>1.145833</td>\n",
       "      <td>4.2</td>\n",
       "      <td>21</td>\n",
       "      <td>NaN</td>\n",
       "    </tr>\n",
       "    <tr>\n",
       "      <th>3</th>\n",
       "      <td>4</td>\n",
       "      <td>13</td>\n",
       "      <td>3002</td>\n",
       "      <td>1645 E ROOSEVELT ST-CENTRAL PHOENIX STN</td>\n",
       "      <td>Arizona</td>\n",
       "      <td>Maricopa</td>\n",
       "      <td>Phoenix</td>\n",
       "      <td>2000-01-01</td>\n",
       "      <td>Parts per billion</td>\n",
       "      <td>19.041667</td>\n",
       "      <td>...</td>\n",
       "      <td>Parts per billion</td>\n",
       "      <td>2.975000</td>\n",
       "      <td>6.6</td>\n",
       "      <td>23</td>\n",
       "      <td>NaN</td>\n",
       "      <td>Parts per million</td>\n",
       "      <td>0.878947</td>\n",
       "      <td>2.2</td>\n",
       "      <td>23</td>\n",
       "      <td>25.0</td>\n",
       "    </tr>\n",
       "    <tr>\n",
       "      <th>4</th>\n",
       "      <td>4</td>\n",
       "      <td>13</td>\n",
       "      <td>3002</td>\n",
       "      <td>1645 E ROOSEVELT ST-CENTRAL PHOENIX STN</td>\n",
       "      <td>Arizona</td>\n",
       "      <td>Maricopa</td>\n",
       "      <td>Phoenix</td>\n",
       "      <td>2000-01-02</td>\n",
       "      <td>Parts per billion</td>\n",
       "      <td>22.958333</td>\n",
       "      <td>...</td>\n",
       "      <td>Parts per billion</td>\n",
       "      <td>1.958333</td>\n",
       "      <td>3.0</td>\n",
       "      <td>22</td>\n",
       "      <td>4.0</td>\n",
       "      <td>Parts per million</td>\n",
       "      <td>0.850000</td>\n",
       "      <td>1.6</td>\n",
       "      <td>23</td>\n",
       "      <td>NaN</td>\n",
       "    </tr>\n",
       "  </tbody>\n",
       "</table>\n",
       "<p>5 rows × 28 columns</p>\n",
       "</div>"
      ],
      "text/plain": [
       "   State Code  County Code  Site Num                                  Address  \\\n",
       "0           4           13      3002  1645 E ROOSEVELT ST-CENTRAL PHOENIX STN   \n",
       "1           4           13      3002  1645 E ROOSEVELT ST-CENTRAL PHOENIX STN   \n",
       "2           4           13      3002  1645 E ROOSEVELT ST-CENTRAL PHOENIX STN   \n",
       "3           4           13      3002  1645 E ROOSEVELT ST-CENTRAL PHOENIX STN   \n",
       "4           4           13      3002  1645 E ROOSEVELT ST-CENTRAL PHOENIX STN   \n",
       "\n",
       "     State    County     City  Date Local          NO2 Units   NO2 Mean  ...  \\\n",
       "0  Arizona  Maricopa  Phoenix  2000-01-01  Parts per billion  19.041667  ...   \n",
       "1  Arizona  Maricopa  Phoenix  2000-01-01  Parts per billion  19.041667  ...   \n",
       "2  Arizona  Maricopa  Phoenix  2000-01-01  Parts per billion  19.041667  ...   \n",
       "3  Arizona  Maricopa  Phoenix  2000-01-01  Parts per billion  19.041667  ...   \n",
       "4  Arizona  Maricopa  Phoenix  2000-01-02  Parts per billion  22.958333  ...   \n",
       "\n",
       "           SO2 Units  SO2 Mean  SO2 1st Max Value SO2 1st Max Hour  SO2 AQI  \\\n",
       "0  Parts per billion  3.000000                9.0               21     13.0   \n",
       "1  Parts per billion  3.000000                9.0               21     13.0   \n",
       "2  Parts per billion  2.975000                6.6               23      NaN   \n",
       "3  Parts per billion  2.975000                6.6               23      NaN   \n",
       "4  Parts per billion  1.958333                3.0               22      4.0   \n",
       "\n",
       "            CO Units   CO Mean  CO 1st Max Value CO 1st Max Hour  CO AQI  \n",
       "0  Parts per million  1.145833               4.2              21     NaN  \n",
       "1  Parts per million  0.878947               2.2              23    25.0  \n",
       "2  Parts per million  1.145833               4.2              21     NaN  \n",
       "3  Parts per million  0.878947               2.2              23    25.0  \n",
       "4  Parts per million  0.850000               1.6              23     NaN  \n",
       "\n",
       "[5 rows x 28 columns]"
      ]
     },
     "execution_count": 5,
     "metadata": {},
     "output_type": "execute_result"
    }
   ],
   "source": [
    "df.head()"
   ]
  },
  {
   "cell_type": "code",
   "execution_count": null,
   "id": "6993ed76",
   "metadata": {},
   "outputs": [
    {
     "name": "stdout",
     "output_type": "stream",
     "text": [
      "<class 'pandas.core.frame.DataFrame'>\n",
      "Index: 1746661 entries, 0 to 24603\n",
      "Data columns (total 28 columns):\n",
      " #   Column             Dtype  \n",
      "---  ------             -----  \n",
      " 0   State Code         int64  \n",
      " 1   County Code        int64  \n",
      " 2   Site Num           int64  \n",
      " 3   Address            object \n",
      " 4   State              object \n",
      " 5   County             object \n",
      " 6   City               object \n",
      " 7   Date Local         object \n",
      " 8   NO2 Units          object \n",
      " 9   NO2 Mean           float64\n",
      " 10  NO2 1st Max Value  float64\n",
      " 11  NO2 1st Max Hour   int64  \n",
      " 12  NO2 AQI            int64  \n",
      " 13  O3 Units           object \n",
      " 14  O3 Mean            float64\n",
      " 15  O3 1st Max Value   float64\n",
      " 16  O3 1st Max Hour    int64  \n",
      " 17  O3 AQI             int64  \n",
      " 18  SO2 Units          object \n",
      " 19  SO2 Mean           float64\n",
      " 20  SO2 1st Max Value  float64\n",
      " 21  SO2 1st Max Hour   int64  \n",
      " 22  SO2 AQI            float64\n",
      " 23  CO Units           object \n",
      " 24  CO Mean            float64\n",
      " 25  CO 1st Max Value   float64\n",
      " 26  CO 1st Max Hour    int64  \n",
      " 27  CO AQI             float64\n",
      "dtypes: float64(10), int64(9), object(9)\n",
      "memory usage: 386.5+ MB\n"
     ]
    }
   ],
   "source": [
    "df.info()"
   ]
  },
  {
   "cell_type": "code",
   "execution_count": null,
   "id": "0ed05454",
   "metadata": {},
   "outputs": [
    {
     "data": {
      "text/plain": [
       "11794"
      ]
     },
     "execution_count": 7,
     "metadata": {},
     "output_type": "execute_result"
    }
   ],
   "source": [
    "# filter the df to only include state == 'Oregon' and count the number of rows\n",
    "oregon_df = df[df['State'] == 'Oregon']\n",
    "oregon_df.shape[0]"
   ]
  },
  {
   "cell_type": "code",
   "execution_count": null,
   "id": "c318bbff",
   "metadata": {},
   "outputs": [],
   "source": [
    "\n",
    "# We will only consider the data from Arizone state for this example\n",
    "df = df[df[\"State\"] == \"Oregon\"]\n",
    "df[\"Date Local\"] = pd.to_datetime(df[\"Date Local\"])"
   ]
  },
  {
   "cell_type": "code",
   "execution_count": null,
   "id": "a2db9868",
   "metadata": {},
   "outputs": [
    {
     "data": {
      "text/plain": [
       "(11794, 28)"
      ]
     },
     "execution_count": 9,
     "metadata": {},
     "output_type": "execute_result"
    }
   ],
   "source": [
    "df.shape"
   ]
  },
  {
   "cell_type": "markdown",
   "id": "cf4fc84f-6a82-43c7-b17f-24f1a56cb3e1",
   "metadata": {},
   "source": [
    "### Multi-entity time-series"
   ]
  },
  {
   "cell_type": "code",
   "execution_count": null,
   "id": "e4b9ad06",
   "metadata": {},
   "outputs": [
    {
     "name": "stdout",
     "output_type": "stream",
     "text": [
      "Unique values for State Code are: [41]\n",
      "Unique values for County Code are: [51]\n",
      "Unique values for Site Num are: [80]\n",
      "Unique values for Address are: ['SE LAFAYETTE/5824 SE LAFAYETTE']\n",
      "Unique values for State are: ['Oregon']\n",
      "Unique values for County are: ['Multnomah']\n",
      "Unique values for City are: ['Portland']\n",
      "Unique values for Date Local are: <DatetimeArray>\n",
      "['2007-05-02 00:00:00', '2007-05-03 00:00:00', '2007-05-04 00:00:00',\n",
      " '2007-05-05 00:00:00', '2007-05-06 00:00:00', '2007-05-07 00:00:00',\n",
      " '2007-05-08 00:00:00', '2007-05-09 00:00:00', '2007-05-10 00:00:00',\n",
      " '2007-05-11 00:00:00',\n",
      " ...\n",
      " '2015-12-22 00:00:00', '2015-12-23 00:00:00', '2015-12-24 00:00:00',\n",
      " '2015-12-25 00:00:00', '2015-12-26 00:00:00', '2015-12-27 00:00:00',\n",
      " '2015-12-28 00:00:00', '2015-12-29 00:00:00', '2015-12-30 00:00:00',\n",
      " '2015-12-31 00:00:00']\n",
      "Length: 2949, dtype: datetime64[ns]\n",
      "Unique values for NO2 Units are: ['Parts per billion']\n",
      "Unique values for NO2 Mean are: [16.       12.083333 11.782609 ... 19.320833 14.845833  4.582609]\n",
      "Unique values for NO2 1st Max Value are: [21.  24.  34.  30.  23.  20.  25.  22.  19.  26.  36.  15.  11.  13.\n",
      " 17.  31.  39.  12.  35.  33.   7.  18.   8.  14.   9.  10.  27.  37.\n",
      " 16.  29.  53.  42.  32.  28.   6.  41.  38.   5.  40.   4.  51.  62.\n",
      " 43.  46.  55.  47.   3.   2.  24.7 22.9 29.1 24.6 19.5 22.1 10.8 33.8\n",
      " 22.3  9.8 10.3 12.2  7.8 31.5 21.8 15.8  8.3 20.7 21.2 20.4 23.1  7.1\n",
      "  8.7  9.5  4.9 15.2  8.6 19.8 23.4 11.9 17.4 20.6  6.5 24.4 31.6 13.6\n",
      " 15.9 30.4 13.3 21.7 29.9 23.9 23.8 26.9 25.2 21.4  8.9 12.1 17.1 36.1\n",
      " 28.6 34.5 23.3  9.4 31.8 15.3 16.6 24.2 25.3 10.4 18.7 25.7 14.4 15.6\n",
      " 14.3 13.4 14.8 11.8 12.4 14.6 12.3 25.1 17.3 18.6  8.8  5.6 17.9 15.4\n",
      " 10.6  7.2  5.7 16.5 13.7  8.2 13.5 20.5 12.6 29.6 27.9  6.1 11.2  9.1\n",
      "  7.9  6.2 11.7  7.4 17.8 12.9 11.3 10.5  8.1  6.4  6.7 14.9 11.4 11.6\n",
      "  6.9 16.9 16.2  9.2 16.8 15.7 14.7 25.4  9.3 20.8 35.7 38.7 19.1 27.4\n",
      " 31.9 31.2 18.3 20.2 18.4 10.9 27.6 19.4 17.5 23.7 19.6 27.8 15.1  5.8\n",
      " 32.4 22.7 26.7 27.7 28.1 26.6 22.5 18.1 18.2 20.3 12.5 21.5 28.3 10.7\n",
      "  4.8 29.8 14.2 26.5 17.7 25.8 23.2 24.1 33.5 25.9 28.4  7.7 10.1 22.8\n",
      " 18.8 19.2 26.2 13.9 31.3 34.3 37.2 30.6 31.7 24.5 25.6 29.3 35.9  6.3\n",
      " 31.1 21.3 29.2 23.6 26.4  7.3  9.9 25.5  9.7 21.1 27.3 20.1 16.1 19.7\n",
      " 11.5  7.6 13.1 17.2 30.7 24.8  8.4  6.8  9.6 32.6 22.2 16.3 29.4 11.1\n",
      " 17.6 32.2 33.2 59.2 39.4 37.8 31.4 12.8 21.6  5.5 33.6 44.3 18.5 30.3\n",
      " 15.5 18.9 19.9 19.3 29.5  7.5 22.6 29.7 20.9  5.9 10.2 27.5 16.4  8.5\n",
      " 32.5 30.5 32.8 36.2 34.7 32.7 33.4 24.3 28.9 23.5  4.6  3.5 14.1  4.1\n",
      "  4.4  6.6 14.5 32.3 32.1 13.2 30.9 28.5 30.1 26.3 24.9 26.8 16.7 27.2\n",
      " 28.2 35.3 36.3 21.9 34.1  5.4 22.4 40.3  2.2 33.9 28.8 33.7 33.3 33.1\n",
      "  5.1  4.3  5.2 12.7  4.5 34.8 35.8 26.1 41.7 28.7 41.5 37.6 40.2 35.6\n",
      " 35.4 34.2 27.1 34.9 13.8 30.8 46.8 34.4 38.8  3.7]\n",
      "Unique values for NO2 1st Max Hour are: [21 18 23  0 20  5  4  6 22  2 14  7 13 12  1  8  9 16  3 19 10 17 15 11]\n",
      "Unique values for NO2 AQI are: [20 23 32 28 22 19 24 21 18 25 34 14 10 12 16 29 37 11 33 31  7 17  8 13\n",
      "  9 35 15 27 50 40 30 26  6 39 36  5 38  4 48 60 41 43 52 44  3  2 56 42]\n",
      "Unique values for O3 Units are: ['Parts per million']\n",
      "Unique values for O3 Mean are: [3.2375e-02 2.6667e-02 2.3125e-02 1.9917e-02 1.9000e-02 1.1375e-02\n",
      " 2.0500e-02 3.0667e-02 3.3375e-02 3.3208e-02 3.0083e-02 3.2833e-02\n",
      " 3.2917e-02 3.6583e-02 3.1958e-02 3.2000e-02 2.6000e-02 3.3292e-02\n",
      " 2.7458e-02 2.2542e-02 2.0375e-02 1.3417e-02 2.6458e-02 2.4292e-02\n",
      " 2.6708e-02 3.1167e-02 2.7750e-02 3.7083e-02 3.7208e-02 2.9083e-02\n",
      " 2.8500e-02 2.2875e-02 2.0792e-02 2.4417e-02 2.3167e-02 1.9208e-02\n",
      " 1.6208e-02 2.3208e-02 1.9708e-02 2.4875e-02 2.4917e-02 2.3250e-02\n",
      " 2.3500e-02 2.2292e-02 1.7375e-02 1.8333e-02 2.1208e-02 2.4083e-02\n",
      " 2.3625e-02 2.2417e-02 1.8667e-02 1.9167e-02 2.7643e-02 2.2667e-02\n",
      " 2.3333e-02 1.8417e-02 2.7292e-02 3.4125e-02 3.0708e-02 2.3667e-02\n",
      " 2.6875e-02 1.3667e-02 1.4750e-02 6.3750e-03 7.0420e-03 1.3333e-02\n",
      " 1.2500e-02 1.0042e-02 1.1500e-02 1.1292e-02 2.4000e-02 2.3417e-02\n",
      " 2.0958e-02 2.2500e-02 1.5583e-02 2.1667e-02 2.3292e-02 3.1333e-02\n",
      " 1.3500e-02 1.9833e-02 1.9292e-02 1.3958e-02 1.4292e-02 1.8792e-02\n",
      " 2.2250e-02 1.5333e-02 2.4667e-02 3.2958e-02 1.7750e-02 2.0708e-02\n",
      " 1.8958e-02 1.9500e-02 8.3330e-03 1.4625e-02 1.6250e-02 1.7167e-02\n",
      " 1.8250e-02 2.2750e-02 2.2625e-02 2.1875e-02 1.9375e-02 1.7042e-02\n",
      " 1.6792e-02 1.5958e-02 1.7833e-02 1.8875e-02 2.3750e-02 2.4500e-02\n",
      " 2.5875e-02 2.0250e-02 9.8750e-03 1.1667e-02 1.5042e-02 2.1083e-02\n",
      " 1.6333e-02 1.3125e-02 6.2080e-03 1.4000e-02 2.2792e-02 1.7125e-02\n",
      " 9.5420e-03 8.2920e-03 1.3208e-02 1.4583e-02 1.6542e-02 1.9125e-02\n",
      " 1.4667e-02 1.2417e-02 7.4170e-03 1.6875e-02 1.2250e-02 1.1278e-02\n",
      " 3.7920e-03 1.1208e-02 4.1670e-03 5.5830e-03 7.6670e-03 1.2292e-02\n",
      " 1.4167e-02 2.0625e-02 1.9792e-02 2.0917e-02 1.2542e-02 2.7920e-03\n",
      " 3.5830e-03 3.8330e-03 1.0750e-02 1.6292e-02 6.6250e-03 8.9170e-03\n",
      " 4.6250e-03 1.3330e-03 5.7500e-03 3.8750e-03 5.4580e-03 7.9170e-03\n",
      " 4.4170e-03 1.9170e-03 1.2920e-03 1.0830e-03 8.8750e-03 1.5750e-02\n",
      " 1.7417e-02 1.9750e-02 7.5000e-03 1.3583e-02 6.0830e-03 2.1000e-02\n",
      " 2.5042e-02 2.1833e-02 5.7920e-03 1.1792e-02 6.7500e-03 6.5420e-03\n",
      " 1.5167e-02 8.0830e-03 2.4833e-02 2.7000e-02 3.1250e-03 2.2920e-03\n",
      " 6.1250e-03 1.5000e-03 9.7920e-03 1.1250e-03 1.0000e-03 4.0000e-03\n",
      " 1.6958e-02 2.9250e-02 6.9580e-03 1.0375e-02 1.6375e-02 2.1250e-02\n",
      " 2.2375e-02 2.0333e-02 2.1583e-02 1.1053e-02 2.4792e-02 7.6250e-03\n",
      " 2.6625e-02 2.8792e-02 2.5542e-02 2.2125e-02 1.6583e-02 1.7583e-02\n",
      " 2.5833e-02 1.5375e-02 2.9580e-03 1.2958e-02 2.3330e-03 1.7500e-03\n",
      " 2.5000e-03 1.8625e-02 3.0833e-02 2.5750e-02 2.4333e-02 2.3958e-02\n",
      " 1.6167e-02 7.1670e-03 2.4167e-02 2.8583e-02 2.8625e-02 2.6792e-02\n",
      " 1.6833e-02 9.2080e-03 1.2042e-02 2.0833e-02 2.7208e-02 2.8042e-02\n",
      " 2.6333e-02 1.5625e-02 5.5420e-03 7.5830e-03 5.0420e-03 1.9580e-03\n",
      " 6.4170e-03 2.1333e-02 2.9167e-02 1.4917e-02 2.3875e-02 2.1125e-02\n",
      " 1.8125e-02 1.1250e-02 9.9170e-03 6.2920e-03 2.0542e-02 3.0176e-02\n",
      " 7.8750e-03 8.0420e-03 8.2500e-03 2.4250e-02 3.3000e-02 3.2458e-02\n",
      " 2.8667e-02 3.1667e-02 3.0417e-02 3.4417e-02 2.5500e-02 2.8958e-02\n",
      " 1.7542e-02 3.3625e-02 3.0000e-02 2.5375e-02 2.2042e-02 3.2292e-02\n",
      " 3.0125e-02 3.5292e-02 2.8125e-02 2.4458e-02 2.5292e-02 3.2667e-02\n",
      " 3.3792e-02 2.3542e-02 3.1000e-02 3.6458e-02 3.3458e-02 2.9667e-02\n",
      " 1.5769e-02 3.6083e-02 3.4583e-02 3.5708e-02 2.5958e-02 2.3458e-02\n",
      " 2.8750e-02 2.7042e-02 3.5944e-02 3.7750e-02 2.6917e-02 3.2792e-02\n",
      " 2.7583e-02 1.1625e-02 1.2667e-02 2.4375e-02 2.4125e-02 1.5542e-02\n",
      " 3.0458e-02 2.1958e-02 5.6670e-03 1.1958e-02 3.0917e-02 2.7125e-02\n",
      " 2.3792e-02 1.5917e-02 2.5458e-02 2.7083e-02 2.6542e-02 2.3083e-02\n",
      " 1.8542e-02 2.0583e-02 2.1167e-02 3.6333e-02 2.2958e-02 2.2917e-02\n",
      " 2.7167e-02 2.2458e-02 1.7875e-02 2.0750e-02 1.8042e-02 1.7625e-02\n",
      " 2.6417e-02 1.8708e-02 2.6583e-02 2.1375e-02 2.2208e-02 1.8000e-02\n",
      " 1.9042e-02 1.4792e-02 3.1042e-02 4.0375e-02 3.5458e-02 1.8583e-02\n",
      " 1.3250e-02 1.3625e-02 1.6125e-02 1.4375e-02 1.4458e-02 1.4333e-02\n",
      " 1.7667e-02 1.4875e-02 8.7920e-03 2.5708e-02 1.1750e-02 1.0958e-02\n",
      " 1.1708e-02 1.8909e-02 1.6381e-02 1.5250e-02 1.9583e-02 1.8167e-02\n",
      " 1.2444e-02 5.4170e-03 1.2375e-02 2.5625e-02 8.0000e-03 4.1250e-03\n",
      " 1.1125e-02 1.2000e-02 1.2083e-02 7.1250e-03 7.2500e-03 1.0792e-02\n",
      " 1.2125e-02 1.2917e-02 4.5000e-03 9.1670e-03 6.9170e-03 1.3167e-02\n",
      " 7.0000e-03 1.4208e-02 1.8083e-02 5.6250e-03 2.9500e-02 3.2920e-03\n",
      " 1.5420e-03 6.5000e-03 1.1083e-02 1.7708e-02 9.7080e-03 1.0542e-02\n",
      " 8.1250e-03 2.2583e-02 1.2333e-02 8.7080e-03 2.2500e-03 3.3300e-04\n",
      " 1.3083e-02 1.5830e-03 3.0042e-02 2.0417e-02 1.4125e-02 2.3917e-02\n",
      " 2.6250e-02 1.5458e-02 2.0125e-02 2.4708e-02 1.9625e-02 1.1458e-02\n",
      " 2.2737e-02 1.0875e-02 2.4042e-02 3.7080e-03 1.1042e-02 2.9170e-03\n",
      " 3.9580e-03 3.4580e-03 1.5667e-02 1.6083e-02 1.3542e-02 9.3330e-03\n",
      " 5.5000e-03 2.7080e-03 1.7080e-03 5.1670e-03 3.9170e-03 1.7208e-02\n",
      " 3.2080e-03 4.8750e-03 1.4083e-02 1.3708e-02 1.4417e-02 2.4208e-02\n",
      " 1.3792e-02 1.9458e-02 3.0167e-02 3.1458e-02 3.0208e-02 2.6083e-02\n",
      " 3.0875e-02 1.9958e-02 2.5333e-02 3.1542e-02 2.7958e-02 2.5792e-02\n",
      " 3.1625e-02 3.6167e-02 3.4667e-02 3.7250e-02 3.3583e-02 1.7000e-02\n",
      " 3.1792e-02 2.8333e-02 1.2208e-02 2.7917e-02 1.9875e-02 2.8208e-02\n",
      " 2.8083e-02 3.1750e-02 2.4583e-02 2.9375e-02 3.5833e-02 3.0542e-02\n",
      " 2.5208e-02 2.9542e-02 3.4750e-02 1.7333e-02 2.8292e-02 3.2500e-02\n",
      " 2.9458e-02 1.8400e-02 2.5125e-02 3.0792e-02 2.9333e-02 2.7250e-02\n",
      " 2.8000e-02 3.4042e-02 2.9292e-02 2.2273e-02 2.2588e-02 3.1208e-02\n",
      " 3.3750e-02 3.5083e-02 2.9875e-02 3.1708e-02 1.1542e-02 2.5250e-02\n",
      " 2.0000e-02 2.2833e-02 1.7458e-02 2.4958e-02 2.1792e-02 1.5125e-02\n",
      " 2.3000e-02 1.8292e-02 2.5583e-02 1.7083e-02 2.8458e-02 2.3708e-02\n",
      " 3.3250e-02 2.9583e-02 2.3375e-02 2.6208e-02 1.4042e-02 9.8330e-03\n",
      " 2.1292e-02 2.1625e-02 2.6750e-02 3.6042e-02 1.5292e-02 2.0083e-02\n",
      " 1.4833e-02 2.7792e-02 1.6667e-02 1.5000e-02 1.3833e-02 7.2920e-03\n",
      " 2.5083e-02 1.8833e-02 1.0083e-02 1.4500e-02 2.4750e-02 2.4625e-02\n",
      " 1.6000e-02 1.1583e-02 3.7500e-03 4.7920e-03 7.7920e-03 2.9208e-02\n",
      " 2.7625e-02 6.4580e-03 4.5830e-03 3.6670e-03 3.3330e-03 7.3330e-03\n",
      " 9.5800e-04 9.7500e-03 1.0208e-02 2.0167e-02 1.1000e-02 1.7917e-02\n",
      " 1.6500e-02 1.9083e-02 1.3875e-02 1.8750e-02 8.5420e-03 2.7833e-02\n",
      " 1.6670e-03 4.0420e-03 7.0800e-04 1.8500e-02 3.4170e-03 7.8330e-03\n",
      " 3.1083e-02 2.8875e-02 2.7500e-03 1.1833e-02 7.7780e-03 7.5420e-03\n",
      " 1.8330e-03 1.0333e-02 2.5000e-04 1.0625e-02 6.8420e-03 3.0625e-02\n",
      " 1.7500e-02 1.1417e-02 1.0458e-02 3.0000e-03 1.2833e-02 1.6917e-02\n",
      " 4.3330e-03 9.3750e-03 4.4580e-03 9.4170e-03 1.5417e-02 3.0420e-03\n",
      " 9.4580e-03 1.0250e-02 2.4542e-02 7.0830e-03 6.0420e-03 5.8330e-03\n",
      " 2.8417e-02 2.3042e-02 1.5208e-02 3.1917e-02 3.6125e-02 3.0375e-02\n",
      " 3.7667e-02 3.9042e-02 2.6042e-02 3.5792e-02 3.4833e-02 3.0250e-02\n",
      " 3.8208e-02 3.3417e-02 2.7708e-02 2.6125e-02 1.8458e-02 3.0292e-02\n",
      " 2.8167e-02 3.7583e-02 3.3958e-02 2.1917e-02 2.0292e-02 2.9792e-02\n",
      " 3.1583e-02 2.2000e-02 1.9250e-02 2.5167e-02 2.0667e-02 2.3583e-02\n",
      " 2.1417e-02 2.1542e-02 1.6708e-02 2.2083e-02 3.2583e-02 2.6167e-02\n",
      " 1.5500e-02 1.4438e-02 1.2458e-02 1.0944e-02 1.4958e-02 3.3125e-02\n",
      " 1.9542e-02 2.5667e-02 3.5042e-02 1.6417e-02 1.8208e-02 7.4580e-03\n",
      " 1.3917e-02 4.5420e-03 1.7958e-02 8.8330e-03 6.6670e-03 1.0000e-02\n",
      " 2.1458e-02 1.5875e-02 1.4708e-02 1.6458e-02 2.3833e-02 2.0042e-02\n",
      " 9.1250e-03 6.8330e-03 9.5000e-03 1.3292e-02 1.0833e-02 5.0000e-03\n",
      " 1.0292e-02 6.3330e-03 9.9580e-03 2.9833e-02 6.7920e-03 5.0830e-03\n",
      " 2.1778e-02 8.2080e-03 1.0125e-02 4.0830e-03 1.7250e-02 5.9580e-03\n",
      " 5.2080e-03 2.2714e-02 3.1670e-03 4.1700e-04 6.6700e-04 3.5000e-03\n",
      " 1.2792e-02 1.9417e-02 2.0875e-02 8.3300e-04 3.0830e-03 1.6700e-04\n",
      " 7.3750e-03 4.9580e-03 2.5000e-02 1.0708e-02 1.0420e-03 9.2500e-03\n",
      " 3.6542e-02 2.9958e-02 1.0583e-02 3.4875e-02 2.9708e-02 3.3542e-02\n",
      " 2.8917e-02 3.6375e-02 2.6500e-02 3.1250e-02 3.7958e-02 2.7417e-02\n",
      " 3.2333e-02 1.6625e-02 2.8708e-02 3.7917e-02 3.5250e-02 3.2542e-02\n",
      " 3.1500e-02 2.7500e-02 2.8542e-02 1.9667e-02 3.3667e-02 3.4167e-02\n",
      " 2.9125e-02 8.6670e-03 3.2708e-02 2.1500e-02 2.2708e-02 1.1917e-02\n",
      " 1.8375e-02 3.1125e-02 1.2583e-02 8.4580e-03 2.7875e-02 2.0420e-03\n",
      " 2.5420e-03 0.0000e+00 4.5800e-04 1.2500e-04 9.1700e-04 6.2500e-04\n",
      " 9.5790e-03 1.1167e-02 6.5830e-03 2.0830e-03 1.7792e-02 1.2750e-02\n",
      " 7.2080e-03 3.0583e-02 3.4375e-02 3.5875e-02 3.3917e-02 3.5417e-02\n",
      " 3.2417e-02 3.5750e-02 3.3833e-02 2.7667e-02 3.6250e-02 3.0500e-02\n",
      " 2.9042e-02 3.7167e-02 3.8417e-02 4.4625e-02 4.1875e-02 3.4292e-02\n",
      " 2.8833e-02 2.0208e-02 2.2167e-02 1.8917e-02 1.5833e-02 2.9917e-02\n",
      " 1.3000e-02 1.7292e-02 3.4917e-02 3.2208e-02 3.4083e-02 2.1708e-02\n",
      " 2.0458e-02 1.2875e-02 1.3458e-02 2.1042e-02 3.8167e-02 1.1875e-02\n",
      " 2.1250e-03 9.2920e-03 2.6250e-03 5.7080e-03 8.4170e-03 3.0958e-02\n",
      " 3.2042e-02 5.9170e-03 1.5708e-02 2.7542e-02 8.3750e-03 2.6375e-02\n",
      " 1.3375e-02 1.2625e-02 1.2789e-02 2.9417e-02 2.7375e-02 1.6042e-02\n",
      " 3.3750e-03 1.1670e-03 5.0000e-04 4.7500e-03 4.2080e-03 4.9170e-03\n",
      " 1.6250e-03 8.6250e-03 1.5792e-02 1.3870e-02 2.8375e-02 3.3042e-02\n",
      " 2.5417e-02 2.9750e-02 3.5625e-02 3.8625e-02 3.9458e-02 3.8125e-02\n",
      " 2.7333e-02 2.3522e-02 1.9313e-02 3.5609e-02 3.7846e-02 3.6875e-02\n",
      " 3.5583e-02 3.6625e-02 3.6000e-02 2.5917e-02 2.6833e-02 2.1750e-02\n",
      " 1.9333e-02 6.0000e-03 2.1053e-02 1.2708e-02 5.2920e-03 4.6670e-03\n",
      " 4.2500e-03 1.0500e-02 6.1670e-03 1.2500e-03 4.8330e-03 3.6250e-03\n",
      " 1.4542e-02 2.8250e-02 5.8750e-03 2.4170e-03 2.6670e-03 2.0800e-04\n",
      " 5.4200e-04 8.7500e-04 2.8330e-03 3.7500e-04 3.2500e-03 1.0417e-02\n",
      " 3.1292e-02 9.0830e-03 1.3042e-02 3.8583e-02 3.7875e-02 3.4958e-02\n",
      " 3.6917e-02 4.5542e-02 4.3292e-02 3.2875e-02 3.2125e-02 4.2000e-02\n",
      " 2.1870e-02 5.2500e-03 7.7500e-03 2.9625e-02 3.4000e-02 2.2105e-02\n",
      " 4.2000e-05 1.5083e-02 5.8300e-04 1.4580e-03 3.5765e-02 3.1417e-02\n",
      " 3.8042e-02 3.8958e-02 4.1125e-02 3.5500e-02 3.5333e-02 3.6208e-02\n",
      " 3.3167e-02 3.7458e-02 3.1833e-02 3.6500e-02 3.4792e-02 1.1333e-02\n",
      " 5.3750e-03 6.8750e-03 5.3330e-03 1.2167e-02 2.6958e-02 2.5105e-02]\n",
      "Unique values for O3 1st Max Value are: [0.04  0.037 0.039 0.036 0.024 0.03  0.042 0.044 0.043 0.046 0.049 0.051\n",
      " 0.041 0.032 0.028 0.034 0.029 0.047 0.033 0.057 0.054 0.052 0.031 0.023\n",
      " 0.027 0.02  0.038 0.056 0.06  0.055 0.017 0.026 0.014 0.015 0.022 0.018\n",
      " 0.021 0.035 0.045 0.058 0.025 0.013 0.053 0.048 0.016 0.011 0.01  0.019\n",
      " 0.006 0.009 0.008 0.002 0.012 0.004 0.003 0.007 0.005 0.001 0.072 0.065\n",
      " 0.05  0.061 0.062 0.08  0.059 0.064 0.    0.063 0.075]\n",
      "Unique values for O3 1st Max Hour are: [ 3  9 10 11 19 12 16  8 13 17  0  7  4 14 18 22 21 20 23  1  6  5 15  2]\n",
      "Unique values for O3 AQI are: [ 34  31  33  20  25  36  37  39  42  43  35  27  24  29  40  28  48  46\n",
      "  44  26  19  23  17  32  47  51  14  22  12  13  15  18  30  38  49  21\n",
      "  11  45  41   9   8  16   5   7   2  10   3   6   4   1  90  67  54  58\n",
      " 111  50  64   0  61 115  74]\n",
      "Unique values for SO2 Units are: ['Parts per billion']\n",
      "Unique values for SO2 Mean are: [1.       1.043478 1.042857 ... 0.016667 0.126087 0.095652]\n",
      "Unique values for SO2 1st Max Value are: [ 1.   2.   1.3  5.   2.3  3.   1.6  2.6  3.3  4.   7.   3.6  6.   4.3\n",
      "  8.   5.3  7.3 15.   5.6  0.   0.3  0.6  6.6  5.1  2.5  1.1  0.9  0.8\n",
      "  1.2  1.4  2.8  1.9  2.4  4.5  2.9  1.7  1.8  2.1  3.4  3.2  6.2  4.4\n",
      "  3.7  3.1  2.2  6.5  4.1  6.1  4.2  1.5  6.7  4.9  5.7  5.2  8.2  6.3\n",
      "  4.8  2.7  3.8  3.9  5.9  7.1  3.5  5.5  4.7  0.7  0.5  9.7  6.9 19.6\n",
      " 10.   4.6  7.9  7.5  5.8  9.4  7.4  8.6  7.2  7.8  8.3  0.4 10.4  6.4\n",
      "  0.1 -0.2 -0.3  0.2  8.1  8.7 11.4  8.5  9.8  5.4]\n",
      "Unique values for SO2 1st Max Hour are: [ 0  2  6  8  7  5 23  3 22 19 20  1 11 18  9 10  4 15 17 12 14 13 16 21]\n",
      "Unique values for SO2 AQI are: [ 1. nan  3.  7.  4.  6. 10.  9. 11. 21.  0. 13. 27. 14. 16.]\n",
      "Unique values for CO Units are: ['Parts per million']\n",
      "Unique values for CO Mean are: [0.3      0.270833 0.291667 ... 0.336583 0.176667 0.140875]\n",
      "Unique values for CO 1st Max Value are: [0.7   0.5   0.3   1.2   0.6   0.8   0.4   0.2   0.9   1.1   1.    0.1\n",
      " 1.3   1.7   1.4   1.5   1.6   2.    2.2   1.8   1.9   2.7   2.4   2.3\n",
      " 2.9   2.1   3.    2.5   2.6   2.8   0.    0.95  1.03  0.51  0.29  0.35\n",
      " 0.23  0.83  1.45  0.82  0.56  0.91  0.77  1.17  0.85  0.78  1.58  1.65\n",
      " 0.93  0.89  0.66  1.32  1.83  1.79  0.27  0.42  1.21  1.78  1.15  0.45\n",
      " 0.75  0.41  0.48  0.58  0.28  0.54  0.47  1.24  0.81  1.34  2.63  2.73\n",
      " 2.87  1.88  0.61  0.84  0.34  0.25  0.63  0.69  0.44  0.46  0.59  0.65\n",
      " 0.49  1.54  1.29  1.92  1.25  0.79  0.15  0.86  0.94  0.62  2.02  0.18\n",
      " 0.11  0.38  0.68  2.76  2.33  0.72  1.77  2.53  3.18  1.18  0.32  0.98\n",
      " 0.26  1.73  2.29  0.12  0.22  0.17  1.93  1.36  0.55  0.36  1.05  0.31\n",
      " 0.57  1.16  1.33  0.43  0.74  1.55  2.27  1.85  0.39  0.92  0.21  0.76\n",
      " 1.96  0.73  0.53  0.24  0.37  0.19  0.16  0.33  1.22  0.67  0.96  0.97\n",
      " 1.14  1.06  1.44  1.97  1.27  0.71  1.46  2.44  2.41  1.11  0.52  1.12\n",
      " 1.09  2.37  3.07  2.79  2.85  2.01  1.76  0.64  2.25  1.02  0.99  1.01\n",
      " 2.47  1.75  1.04  2.06  1.51  2.21  2.68  1.23  1.08  1.37  1.28  1.19\n",
      " 1.57  1.35  0.88  0.87  1.49  1.52  1.07  2.36  1.42  1.63  1.89  0.313\n",
      " 2.892 2.051 1.264 1.224 1.391 0.828 0.751 0.338 0.506 0.484 0.974 0.193\n",
      " 0.617 0.515 1.425 0.918 0.631 3.048 2.563 1.153 2.349 2.292 2.072 1.312\n",
      " 1.348 0.585 0.258 0.333 1.522 1.044 0.802 0.849 0.458 1.212 2.504 2.543\n",
      " 2.828 2.332 0.843 0.689 0.526 0.671 1.305 1.304 1.198 1.561 1.706 0.466\n",
      " 0.316 0.475 0.405 0.271 0.436 0.513 0.348 0.724 0.883 0.792 2.019 0.494\n",
      " 0.306 0.881 0.367 0.329 0.616 0.905 0.434 0.298 0.396 0.541 0.449 0.307\n",
      " 0.277 0.297 0.235 0.328 0.593 0.565 0.699 0.686 0.327 0.478 1.361 0.556\n",
      " 0.733 0.943 0.314 0.757 0.622 1.588 1.005 0.379 0.438 0.709 0.492 0.454\n",
      " 0.261 0.286 0.398 1.257 0.368 1.152 0.788 0.311 0.409 0.387 0.374 0.455\n",
      " 1.204 0.432 0.935 0.342 0.262 0.273 0.415 0.501 0.704 0.257 0.402 0.646\n",
      " 0.319 0.331 0.373 0.386 0.625 0.276 0.393 0.303 0.864 0.355 0.364 0.231\n",
      " 0.233 0.414 0.285 0.228 0.275 0.564 0.268 0.459 0.309 0.212 0.531 0.774\n",
      " 0.242 0.282 0.198 0.208 0.195 0.227 0.234 0.236 0.232 0.185 0.483 0.417\n",
      " 0.343 0.643 0.249 0.264 0.199 0.477 0.206 0.205 0.177 0.266 0.246 0.288\n",
      " 0.203 0.357 0.381 0.241 0.337 0.238 0.536 0.217 0.287 0.202 0.304 0.253\n",
      " 0.221 0.256 0.237 0.279 0.786 1.017 1.803 0.388 0.519 0.773 0.518 0.403\n",
      " 0.301 0.395 0.383 0.638 0.904 0.608 0.525 0.954 0.743 1.186 0.521 1.145\n",
      " 1.497 1.787 0.411 2.052 1.687 1.315 0.735 0.392 0.422 0.243 0.334 2.061\n",
      " 1.203 1.67  0.512 2.212 1.502 3.414 0.831 0.867 0.654 1.278 1.202 1.129\n",
      " 0.619 1.817 1.185 1.244 0.996 1.106 1.141 1.133 2.476 1.87  0.981 0.207\n",
      " 0.972 1.101 0.953 1.974 2.114 2.133 2.013 1.265 0.362 0.385 0.468 0.394\n",
      " 0.726 0.558 0.263 1.076 2.048 3.105 2.634 1.159 1.116 0.933 0.248 0.239\n",
      " 0.265 0.481 1.057 1.569 0.624 1.024 0.347 0.421 0.452 0.284 0.537 0.384\n",
      " 1.061 1.701 0.546 1.053 1.451 1.621 1.058 0.244 0.994 0.639 0.335 0.463\n",
      " 0.705 0.728 1.465 0.291 0.325 0.317 1.514 0.539 0.369 0.423 0.323 1.082\n",
      " 0.408 0.507 0.578 0.429 0.482 2.11  1.836 0.324 0.549 0.247 0.479 0.754\n",
      " 0.568 0.336 0.389 0.451 0.559 0.404 0.376 0.292 0.542 0.676 0.378 0.353\n",
      " 0.215 0.533 0.365 0.308 0.224 0.305 0.293 0.186 0.209 0.326 0.192 0.359\n",
      " 0.879 0.267 0.252 0.189 0.294 0.218 0.222 0.225 0.322 0.245 0.302 0.201\n",
      " 0.191 0.194 0.372 0.223 0.196 0.382 0.543 0.345 0.657 0.473 0.576 0.589\n",
      " 0.213 0.283 0.465 0.433 0.603 0.172 0.437 0.562 0.419 0.736 0.299 0.778\n",
      " 0.944 0.219 0.569 0.595 0.366 0.442 0.573 0.427 1.495 0.493 0.929 0.695\n",
      " 0.648 0.637 0.486 1.479 1.276 1.104 0.847 0.886 1.225 0.401 0.566 1.98\n",
      " 1.089 2.145 1.189 0.946 0.723 0.794 1.004 1.251 1.175 0.667 0.555 0.471\n",
      " 0.822 1.124 0.738 0.993 1.455 1.473 0.552 0.885 1.071 0.741 0.888 0.426\n",
      " 1.259 0.354 0.653 0.254 0.505 0.816 0.615 0.963 0.845 0.772 0.456 0.612\n",
      " 0.872 0.851 0.605 0.548 0.318 0.161 0.204 0.509 0.165 0.179 0.274 0.166\n",
      " 0.152 0.169 0.175 0.158 0.149 0.632 0.281 0.147 0.148 0.164 0.176 0.184\n",
      " 0.162 0.154 0.138 0.197 0.214 0.163 0.142 0.269 0.255 0.476 0.295 0.597\n",
      " 0.425 0.817 0.949 0.793 0.188 1.313 0.567 1.415 1.875 0.496 0.866 0.928\n",
      " 0.416 1.719 2.337 2.284 0.665 1.172 0.581 0.358 1.342 1.81  0.563 0.226\n",
      " 1.062 0.727 0.836 1.477 1.317 0.678 1.702 1.131 0.666 1.411 0.538 0.371\n",
      " 1.123 1.879 1.472 1.432 0.669 1.155 1.664 1.457 1.386 1.576 0.909 0.687\n",
      " 0.747 0.852 0.453 1.564 1.282 0.914 1.501 1.055 0.748 1.917 0.497 1.445\n",
      " 0.504 0.289 0.321 0.503 0.834 0.363 0.435 2.158 0.443 0.604 0.596 0.187\n",
      " 1.113 0.211 0.779 1.075 1.409 1.421 1.236 0.407 0.487 1.359 1.268 0.973\n",
      " 0.488 0.823 0.229 0.775 0.344 0.897 0.756 0.532 0.296 0.315 0.278 0.691\n",
      " 0.441 0.178 0.146 0.171 0.173 0.157 0.115 0.156 0.167 0.216 0.346 0.251\n",
      " 0.349 0.332 0.424 0.259 0.406 0.693 0.469 0.661 0.535 0.729 0.927 1.167\n",
      " 0.664 0.875 0.878 1.284 0.684 1.235 0.312 0.787 1.234 0.647 0.838 0.356\n",
      " 0.807 0.856 1.717 0.979 0.109 0.105 0.127 0.071 0.574 0.818 1.442 0.629\n",
      " 0.777 0.899 0.467 0.903 0.746 0.577 1.563 2.006 0.397 0.412 1.059 0.611\n",
      " 1.745 0.955 2.444 2.283 0.806 1.035 0.623 1.023 1.532 1.201 0.511 1.092\n",
      " 0.976 1.596 1.158 0.906 0.803 1.331 0.516 1.319 1.863 1.951 2.238 1.645\n",
      " 2.409 0.634 0.341 1.097 1.139 1.562 1.072 0.882 1.602 1.381 1.036 0.857\n",
      " 1.102 1.083 0.832 1.052 0.587 0.607 0.742 0.431 0.635 0.725 0.527 0.571\n",
      " 0.391 0.524 0.489 0.795 0.887 0.168 0.182 0.134 0.141 0.447 0.159 0.579\n",
      " 0.917 0.155 0.609 0.628 0.764 0.517 0.819 0.932 0.809 0.461 0.745 0.969\n",
      " 0.659 0.351 1.074 0.633 0.714 1.285 1.177 1.027 1.001 0.272 0.697 0.717\n",
      " 1.084 1.299 1.587 1.245 1.249 1.263 0.812 0.444 1.273 2.038 0.377 0.495\n",
      " 0.808 0.884 1.543 1.179 0.811]\n",
      "Unique values for CO 1st Max Hour are: [21 22  0 23  1  2  5 10 17 16 11  4  7 13 14  6 12 20 15 19  3  9 18  8]\n",
      "Unique values for CO AQI are: [nan  6.  3.  7.  8.  2.  5. 11.  1. 10.  9. 15. 14. 13. 16. 19. 17. 20.\n",
      " 23. 26. 24. 31. 28. 18. 25.  0. 27. 22. 30.]\n"
     ]
    }
   ],
   "source": [
    "# print the unique value for each column\n",
    "for col in df.columns:\n",
    "    print(f\"Unique values for {col} are: {df[col].unique()}\")"
   ]
  },
  {
   "cell_type": "markdown",
   "id": "01519464",
   "metadata": {},
   "source": [
    "The support to time series can be enabled by passing the parameter tsmode=True to the ProfileReport when its enabled, pandas profiling will try to identify time-dependent features using the feature's autocorrelation, which requires a sorted DataFrame or the definition of the `sortby` parameter.\n",
    "\n",
    "When a feature is identified as time series will trigger the following changes:\n",
    "   - the histogram will be replaced by a line plot\n",
    "   - the feature details will have a new tab with autocorrelation and partial autocorrelation plots\n",
    "   - two new warnings: `NON STATIONARY` and `SEASONAL` (which indicates that the series may have seasonality)\n",
    "\n",
    "In cases where the data has multiple entities,  as in this example, where we have different meteorological stations, each station can be interpreted as a time series, its necessary to filter the entities and profile each station separately."
   ]
  },
  {
   "cell_type": "markdown",
   "id": "cc10f039",
   "metadata": {},
   "source": [
    "The following plot showcases the amount of data for each entity over time. In this case the data from the stations started being collected at the same period, and the data is collected hourly so they have the same amount of data per period."
   ]
  },
  {
   "cell_type": "code",
   "execution_count": null,
   "id": "15e613a6",
   "metadata": {},
   "outputs": [
    {
     "name": "stderr",
     "output_type": "stream",
     "text": [
      "c:\\Users\\Steve\\AppData\\Local\\Programs\\Python\\Python312\\Lib\\site-packages\\ydata_profiling\\visualisation\\plot.py:841: FutureWarning: The default of observed=False is deprecated and will be changed to True in a future version of pandas. Pass observed=False to retain current behavior or observed=True to adopt the future default and silence this warning.\n",
      "  df = df.groupby([entity_column, \"__bins\"])[sortbykey].count()\n",
      "c:\\Users\\Steve\\AppData\\Local\\Programs\\Python\\Python312\\Lib\\site-packages\\ydata_profiling\\visualisation\\plot.py:844: FutureWarning: The default value of observed=False is deprecated and will change to observed=True in a future version of pandas. Specify observed=False to silence this warning and retain the current behavior\n",
      "  .pivot_table(values=sortbykey, index=\"__bins\", columns=entity_column)\n"
     ]
    },
    {
     "data": {
      "text/plain": [
       "<Axes: xlabel='Time'>"
      ]
     },
     "execution_count": 12,
     "metadata": {},
     "output_type": "execute_result"
    },
    {
     "data": {
      "image/png": "[encoded data removed]",
      "text/plain": [
       "<Figure size 1200x500 with 1 Axes>"
      ]
     },
     "metadata": {},
     "output_type": "display_data"
    }
   ],
   "source": [
    "from ydata_profiling.visualisation.plot import timeseries_heatmap\n",
    "\n",
    "timeseries_heatmap(dataframe=df, entity_column=\"Site Num\", sortby=\"Date Local\")"
   ]
  },
  {
   "cell_type": "code",
   "execution_count": null,
   "id": "b29a7e78-d52d-458d-ac9a-e509ffd373d1",
   "metadata": {},
   "outputs": [
    {
     "data": {
      "application/vnd.jupyter.widget-view+json": {
       "model_id": "26b75e4f32dd4d618231ad97bb574549",
       "version_major": 2,
       "version_minor": 0
      },
      "text/plain": [
       "Summarize dataset:   0%|          | 0/5 [00:00<?, ?it/s]"
      ]
     },
     "metadata": {},
     "output_type": "display_data"
    },
    {
     "name": "stderr",
     "output_type": "stream",
     "text": [
      "c:\\Users\\Steve\\AppData\\Local\\Programs\\Python\\Python312\\Lib\\site-packages\\numpy\\lib\\function_base.py:2897: RuntimeWarning: invalid value encountered in divide\n",
      "  c /= stddev[:, None]\n",
      "c:\\Users\\Steve\\AppData\\Local\\Programs\\Python\\Python312\\Lib\\site-packages\\numpy\\lib\\function_base.py:2897: RuntimeWarning: invalid value encountered in divide\n",
      "  c /= stddev[:, None]\n"
     ]
    },
    {
     "data": {
      "application/vnd.jupyter.widget-view+json": {
       "model_id": "6b459139e66947e58c5ff8f049c0d34c",
       "version_major": 2,
       "version_minor": 0
      },
      "text/plain": [
       "Generate report structure:   0%|          | 0/1 [00:00<?, ?it/s]"
      ]
     },
     "metadata": {},
     "output_type": "display_data"
    },
    {
     "data": {
      "application/vnd.jupyter.widget-view+json": {
       "model_id": "996d6a6f5f4340928a6f8fcb04d9be4d",
       "version_major": 2,
       "version_minor": 0
      },
      "text/plain": [
       "Render HTML:   0%|          | 0/1 [00:00<?, ?it/s]"
      ]
     },
     "metadata": {},
     "output_type": "display_data"
    },
    {
     "data": {
      "application/vnd.jupyter.widget-view+json": {
       "model_id": "88b91676009046f29cf0cfe8733e7941",
       "version_major": 2,
       "version_minor": 0
      },
      "text/plain": [
       "Export report to file:   0%|          | 0/1 [00:00<?, ?it/s]"
      ]
     },
     "metadata": {},
     "output_type": "display_data"
    }
   ],
   "source": [
    "# Return the profile per station\n",
    "for group in df.groupby(\"Site Num\"):\n",
    "    # Running 1 profile per station\n",
    "    profile = ProfileReport(\n",
    "        group[1],\n",
    "        tsmode=True,\n",
    "        sortby=\"Date Local\",\n",
    "        # title=f\"Air Quality profiling - Site Num: {group[0]}\"\n",
    "    )\n",
    "\n",
    "    profile.to_file(f\"Ts_Profile_{group[0]}.html\")"
   ]
  },
  {
   "cell_type": "code",
   "execution_count": null,
   "id": "7327cb70-3db8-441e-837e-4ac2a5a57eaa",
   "metadata": {},
   "outputs": [
    {
     "data": {
      "application/vnd.jupyter.widget-view+json": {
       "model_id": "abc78d2660e74289abf0fd5cbaf10aa0",
       "version_major": 2,
       "version_minor": 0
      },
      "text/plain": [
       "Summarize dataset:   0%|          | 0/5 [00:00<?, ?it/s]"
      ]
     },
     "metadata": {},
     "output_type": "display_data"
    },
    {
     "data": {
      "application/vnd.jupyter.widget-view+json": {
       "model_id": "6f0775b6d77e43f2878763bb5c49dda2",
       "version_major": 2,
       "version_minor": 0
      },
      "text/plain": [
       "Generate report structure:   0%|          | 0/1 [00:00<?, ?it/s]"
      ]
     },
     "metadata": {},
     "output_type": "display_data"
    },
    {
     "data": {
      "application/vnd.jupyter.widget-view+json": {
       "model_id": "1a88cf2ada904d83915b70e7909d2ad8",
       "version_major": 2,
       "version_minor": 0
      },
      "text/plain": [
       "Render HTML:   0%|          | 0/1 [00:00<?, ?it/s]"
      ]
     },
     "metadata": {},
     "output_type": "display_data"
    },
    {
     "data": {
      "application/vnd.jupyter.widget-view+json": {
       "model_id": "df944153c495496eb2978097a3f47ffb",
       "version_major": 2,
       "version_minor": 0
      },
      "text/plain": [
       "Export report to file:   0%|          | 0/1 [00:00<?, ?it/s]"
      ]
     },
     "metadata": {},
     "output_type": "display_data"
    }
   ],
   "source": [
    "profile = ProfileReport(\n",
    "    group[1],\n",
    "    tsmode=True,\n",
    "    sortby=\"Date Local\",\n",
    "    # title=f\"Air Quality profiling - Site Num: {group[0]}\"\n",
    ")\n",
    "\n",
    "profile.to_file(\"your_report.html\")"
   ]
  },
  {
   "cell_type": "code",
   "execution_count": null,
   "id": "3c53d119-d014-4104-a5b2-76fd7a45181e",
   "metadata": {},
   "outputs": [],
   "source": []
  }
 ],
 "metadata": {
  "kernelspec": {
   "display_name": "Python 3 (ipykernel)",
   "language": "python",
   "name": "python3"
  },
  "language_info": {
   "codemirror_mode": {
    "name": "ipython",
    "version": 3
   },
   "file_extension": ".py",
   "mimetype": "text/x-python",
   "name": "python",
   "nbconvert_exporter": "python",
   "pygments_lexer": "ipython3",
   "version": "3.12.3"
  },
  "varInspector": {
   "cols": {
    "lenName": 16,
    "lenType": 16,
    "lenVar": 40
   },
   "kernels_config": {
    "python": {
     "delete_cmd_postfix": "",
     "delete_cmd_prefix": "del ",
     "library": "var_list.py",
     "varRefreshCmd": "print(var_dic_list())"
    },
    "r": {
     "delete_cmd_postfix": ") ",
     "delete_cmd_prefix": "rm(",
     "library": "var_list.r",
     "varRefreshCmd": "cat(var_dic_list()) "
    }
   },
   "types_to_exclude": [
    "module",
    "function",
    "builtin_function_or_method",
    "instance",
    "_Feature"
   ],
   "window_display": false
  }
 },
 "nbformat": 4,
 "nbformat_minor": 5
}
